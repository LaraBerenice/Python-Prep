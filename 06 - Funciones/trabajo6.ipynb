{
 "cells": [
  {
   "cell_type": "code",
   "execution_count": null,
   "metadata": {},
   "outputs": [],
   "source": [
    "1) Crear una función que reciba un número como parámetro y devuelva si True si es primo y False si no lo es"
   ]
  },
  {
   "cell_type": "code",
   "execution_count": 8,
   "metadata": {},
   "outputs": [],
   "source": [
    "\n",
    "def NumeroPrimo (numero): \n",
    "\n",
    " for i in range(2,numero):\n",
    "  if(numero % i == 0):\n",
    "    return (True)\n",
    "    break\n",
    "  else: return (False)"
   ]
  },
  {
   "cell_type": "code",
   "execution_count": 9,
   "metadata": {},
   "outputs": [
    {
     "data": {
      "text/plain": [
       "False"
      ]
     },
     "execution_count": 9,
     "metadata": {},
     "output_type": "execute_result"
    }
   ],
   "source": [
    "NumeroPrimo (21)"
   ]
  },
  {
   "cell_type": "code",
   "execution_count": null,
   "metadata": {},
   "outputs": [],
   "source": [
    "2) Utilizando la función del punto 1, realizar otra función que reciba de parámetro una lista de números y devuelva sólo aquellos que son primos en otra lista\n"
   ]
  },
  {
   "cell_type": "code",
   "execution_count": 7,
   "metadata": {},
   "outputs": [],
   "source": [
    "lis_completa = [1,2,3,4,5,6,7,8,9,10,11,12,13,14,15,16,17,18,19,20]"
   ]
  },
  {
   "cell_type": "code",
   "execution_count": 10,
   "metadata": {},
   "outputs": [],
   "source": [
    "def ParametroLista (lista):\n",
    "    lista2=[]\n",
    "    for elemento in lista:\n",
    "        if(NumeroPrimo(int(elemento))):\n",
    "            lista2.append(elemento)\n",
    "    return lista2"
   ]
  },
  {
   "cell_type": "code",
   "execution_count": 11,
   "metadata": {},
   "outputs": [
    {
     "data": {
      "text/plain": [
       "[4, 6, 8, 10, 12, 14, 16, 18, 20]"
      ]
     },
     "execution_count": 11,
     "metadata": {},
     "output_type": "execute_result"
    }
   ],
   "source": [
    "ParametroLista(lis_completa)"
   ]
  },
  {
   "cell_type": "code",
   "execution_count": 63,
   "metadata": {},
   "outputs": [
    {
     "ename": "SyntaxError",
     "evalue": "unmatched ')' (285225443.py, line 1)",
     "output_type": "error",
     "traceback": [
      "\u001b[0;36m  Cell \u001b[0;32mIn [63], line 1\u001b[0;36m\u001b[0m\n\u001b[0;31m    3) Crear una función que al recibir una lista de números,\u001b[0m\n\u001b[0m     ^\u001b[0m\n\u001b[0;31mSyntaxError\u001b[0m\u001b[0;31m:\u001b[0m unmatched ')'\n"
     ]
    }
   ],
   "source": [
    "3) Crear una función que al recibir una lista de números, \n",
    "\n",
    "devuelva el que más se repite (valor MODAL)\n",
    "\n",
    "y cuántas veces lo hace. \n",
    "\n",
    "Si hay más de un \"más repetido\", que devuelva cualquiera\n"
   ]
  },
  {
   "cell_type": "code",
   "execution_count": 12,
   "metadata": {},
   "outputs": [],
   "source": [
    "listaa=[3,4,4,4,4,4,4,44,5,5,5,5,5,6,66,78,11,93,34]"
   ]
  },
  {
   "cell_type": "code",
   "execution_count": 33,
   "metadata": {},
   "outputs": [],
   "source": [
    "def elNuemeroQueMasSeRepite(lean):\n",
    "    dicc = {}\n",
    "    for num in lean:\n",
    "        clave = str(num)\n",
    "        if not clave in dicc:\n",
    "            dicc[clave] = 1\n",
    "        else:\n",
    "            dicc[clave] += 1\n",
    "            \n",
    "    dicc.get(clave)\n",
    "    return max(dicc,key=dicc.get)\n",
    "\n"
   ]
  },
  {
   "cell_type": "code",
   "execution_count": 17,
   "metadata": {},
   "outputs": [
    {
     "data": {
      "text/plain": [
       "'4'"
      ]
     },
     "execution_count": 17,
     "metadata": {},
     "output_type": "execute_result"
    }
   ],
   "source": [
    "elNuemeroQueMasSeRepite (listaa)"
   ]
  },
  {
   "cell_type": "code",
   "execution_count": null,
   "metadata": {},
   "outputs": [],
   "source": [
    "4) A la función del punto 3, agregar un parámetro más, que permita elegir si se requiere el menor o el mayor de los mas repetidos.\n"
   ]
  },
  {
   "cell_type": "code",
   "execution_count": 20,
   "metadata": {},
   "outputs": [],
   "source": [
    "listaa=[3,4,4,4,4,4,4,44,5,5,5,5,5,6,66,78,11,93,34]"
   ]
  },
  {
   "cell_type": "code",
   "execution_count": 34,
   "metadata": {},
   "outputs": [],
   "source": [
    "\n",
    "def elNuemeroQueMasSeRepite(lean):\n",
    "\n",
    "    dicc = {}\n",
    "    for num in lean:\n",
    "        clave = str(num)\n",
    "        \n",
    "        if not clave in dicc:\n",
    "            dicc[clave] = 1\n",
    "        else:\n",
    "            dicc[clave] += 1\n",
    "\n",
    "    a = input('maximo o minimo')\n",
    "\n",
    "    if (a == 'maximo'):\n",
    "        dicc.get(clave)\n",
    "        return 'el maximo valor es', max(dicc, key=dicc.get)\n",
    "    elif (a == 'minimo'):\n",
    "        return 'el minimo valor es', min(dicc, key=dicc.get)\n",
    "\n",
    "   \n"
   ]
  },
  {
   "cell_type": "code",
   "execution_count": 35,
   "metadata": {},
   "outputs": [
    {
     "data": {
      "text/plain": [
       "('el maximo valor es', '4')"
      ]
     },
     "execution_count": 35,
     "metadata": {},
     "output_type": "execute_result"
    }
   ],
   "source": [
    "elNuemeroQueMasSeRepite(listaa)"
   ]
  },
  {
   "cell_type": "code",
   "execution_count": null,
   "metadata": {},
   "outputs": [],
   "source": [
    "\n",
    "5) Crear una función que convierta entre grados Celsius, Farenheit y Kelvin<br>\n",
    "\n",
    "Fórmula 1\t: (°C × 9/5) + 32 = °F\n",
    "\n",
    "Fórmula 2\t: °C + 273.15 = °K\n",
    "\n",
    "Debe recibir 3 parámetros: el valor, la medida de orígen y la medida de destino"
   ]
  },
  {
   "cell_type": "code",
   "execution_count": 130,
   "metadata": {},
   "outputs": [],
   "source": [
    "def Temperatura(C,Origen,Destino):\n",
    " \n",
    "    if ( Origen > 0 and Destino =='F'):\n",
    "\n",
    "        return 'Farenheit', round(((C * 9/5) + 32),2)\n",
    "\n",
    "    elif ( Origen >0 and Destino == str('K')):\n",
    "\n",
    "        return 'Kelvin', round((C + 273.15),2)\n"
   ]
  },
  {
   "cell_type": "code",
   "execution_count": 140,
   "metadata": {},
   "outputs": [
    {
     "data": {
      "text/plain": [
       "('Farenheit', 183.2)"
      ]
     },
     "execution_count": 140,
     "metadata": {},
     "output_type": "execute_result"
    }
   ],
   "source": [
    "Temperatura (84,45,'F')"
   ]
  },
  {
   "cell_type": "code",
   "execution_count": null,
   "metadata": {},
   "outputs": [],
   "source": [
    "6) Iterando una lista con los tres valores posibles de temperatura que recibe la función del punto 5, hacer un print para cada combinación de los mismos:"
   ]
  },
  {
   "cell_type": "code",
   "execution_count": 142,
   "metadata": {},
   "outputs": [
    {
     "name": "stdout",
     "output_type": "stream",
     "text": [
      "Celcius(40) Celcius(40)\n",
      "Celcius(40) Kelin(5)\n",
      "Celcius(40) Faren (9)\n",
      "Kelin(5) Celcius(40)\n",
      "Kelin(5) Kelin(5)\n",
      "Kelin(5) Faren (9)\n",
      "Faren (9) Celcius(40)\n",
      "Faren (9) Kelin(5)\n",
      "Faren (9) Faren (9)\n"
     ]
    }
   ],
   "source": [
    "lista=['Celcius(40)','Kelin(5)','Faren (9)']\n",
    "\n",
    "for i in lista:\n",
    "    for j in lista:\n",
    "        print(i,j)\n"
   ]
  },
  {
   "cell_type": "code",
   "execution_count": null,
   "metadata": {},
   "outputs": [],
   "source": [
    "7) Armar una función que devuelva el factorial de un número. Tener en cuenta que el usuario puede equivocarse y enviar de parámetro un número no entero o negativo"
   ]
  },
  {
   "cell_type": "code",
   "execution_count": 296,
   "metadata": {},
   "outputs": [],
   "source": [
    "def Factorial(numero):\n",
    "    \n",
    "    if(type(numero) != int):\n",
    "        return 'no es un numero entero'\n",
    "    elif (numero<0):\n",
    "        return 'no es un numero positivo'\n",
    "    elif(numero>0):\n",
    "        n = 0\n",
    "        Factorial = 1\n",
    "        while (n < numero):\n",
    "            n += 1\n",
    "            Factorial*= n\n",
    "        return Factorial\n",
    "            \n",
    "            \n",
    "                \n",
    "\n"
   ]
  },
  {
   "cell_type": "code",
   "execution_count": 297,
   "metadata": {},
   "outputs": [
    {
     "data": {
      "text/plain": [
       "5040"
      ]
     },
     "execution_count": 297,
     "metadata": {},
     "output_type": "execute_result"
    }
   ],
   "source": [
    "Factorial(7)"
   ]
  },
  {
   "cell_type": "code",
   "execution_count": 298,
   "metadata": {},
   "outputs": [
    {
     "name": "stdout",
     "output_type": "stream",
     "text": [
      "1\n",
      "2\n",
      "6\n",
      "24\n",
      "120\n",
      "720\n"
     ]
    }
   ],
   "source": [
    "numero=6\n",
    "n = 0\n",
    "Factorial = 1\n",
    "while (n < numero):\n",
    "    n += 1\n",
    "    Factorial*= n\n",
    "    print( Factorial)\n",
    "            "
   ]
  }
 ],
 "metadata": {
  "kernelspec": {
   "display_name": "Python 3.10.6 64-bit",
   "language": "python",
   "name": "python3"
  },
  "language_info": {
   "codemirror_mode": {
    "name": "ipython",
    "version": 3
   },
   "file_extension": ".py",
   "mimetype": "text/x-python",
   "name": "python",
   "nbconvert_exporter": "python",
   "pygments_lexer": "ipython3",
   "version": "3.10.6"
  },
  "orig_nbformat": 4,
  "vscode": {
   "interpreter": {
    "hash": "916dbcbb3f70747c44a77c7bcd40155683ae19c65e1c03b4aa3499c5328201f1"
   }
  }
 },
 "nbformat": 4,
 "nbformat_minor": 2
}
