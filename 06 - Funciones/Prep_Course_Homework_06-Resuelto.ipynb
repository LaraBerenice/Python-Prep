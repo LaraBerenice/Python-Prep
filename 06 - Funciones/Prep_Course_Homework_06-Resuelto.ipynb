{
 "cells": [
  {
   "cell_type": "markdown",
   "metadata": {},
   "source": [
    "## Funciones"
   ]
  },
  {
   "cell_type": "markdown",
   "metadata": {},
   "source": [
    "1) Crear una función que reciba un número como parámetro y devuelva True si es primo y False si no lo es"
   ]
  },
  {
   "cell_type": "code",
   "execution_count": 12,
   "metadata": {},
   "outputs": [],
   "source": [
    "def verifica_primo(nro):\n",
    "    es_primo = True\n",
    "    for i in range(2, nro):\n",
    "        if nro % i == 0:\n",
    "            es_primo = False\n",
    "            break\n",
    "    return es_primo"
   ]
  },
  {
   "cell_type": "code",
   "execution_count": 13,
   "metadata": {},
   "outputs": [
    {
     "data": {
      "text/plain": [
       "False"
      ]
     },
     "execution_count": 13,
     "metadata": {},
     "output_type": "execute_result"
    }
   ],
   "source": [
    "verifica_primo(4)"
   ]
  },
  {
   "cell_type": "markdown",
   "metadata": {},
   "source": [
    "2) Utilizando la función del punto 1, realizar otra función que reciba de parámetro una lista de números y devuelva sólo aquellos que son primos en otra lista"
   ]
  },
  {
   "cell_type": "code",
   "execution_count": 8,
   "metadata": {},
   "outputs": [],
   "source": [
    "listaa = [3,4,4,4,4,4,4,44,5,5,55,5,6,66,78,11,93,34]"
   ]
  },
  {
   "cell_type": "code",
   "execution_count": 14,
   "metadata": {},
   "outputs": [],
   "source": [
    "def extrae_primos_de_lista(lista):\n",
    "    lista_primos = []\n",
    "    for elemento in lista:\n",
    "        if verifica_primo(int(elemento)):\n",
    "            lista_primos.append(elemento)\n",
    "    return lista_primos"
   ]
  },
  {
   "cell_type": "code",
   "execution_count": 15,
   "metadata": {},
   "outputs": [
    {
     "data": {
      "text/plain": [
       "[3, 5, 5, 5, 11]"
      ]
     },
     "execution_count": 15,
     "metadata": {},
     "output_type": "execute_result"
    }
   ],
   "source": [
    "extrae_primos_de_lista(listaa)"
   ]
  },
  {
   "cell_type": "code",
   "execution_count": 11,
   "metadata": {},
   "outputs": [
    {
     "ename": "NameError",
     "evalue": "name 'verifica_primo' is not defined",
     "output_type": "error",
     "traceback": [
      "\u001b[0;31m---------------------------------------------------------------------------\u001b[0m",
      "\u001b[0;31mNameError\u001b[0m                                 Traceback (most recent call last)",
      "Cell \u001b[0;32mIn [11], line 2\u001b[0m\n\u001b[1;32m      1\u001b[0m lis_completa \u001b[39m=\u001b[39m [\u001b[39m1\u001b[39m,\u001b[39m2\u001b[39m,\u001b[39m3\u001b[39m,\u001b[39m4\u001b[39m,\u001b[39m5\u001b[39m,\u001b[39m6\u001b[39m,\u001b[39m7\u001b[39m,\u001b[39m8\u001b[39m,\u001b[39m9\u001b[39m,\u001b[39m10\u001b[39m,\u001b[39m11\u001b[39m,\u001b[39m12\u001b[39m,\u001b[39m13\u001b[39m,\u001b[39m14\u001b[39m,\u001b[39m15\u001b[39m,\u001b[39m16\u001b[39m,\u001b[39m17\u001b[39m,\u001b[39m18\u001b[39m,\u001b[39m19\u001b[39m,\u001b[39m20\u001b[39m]\n\u001b[0;32m----> 2\u001b[0m lis_primos \u001b[39m=\u001b[39m extrae_primos_de_lista(lis_completa)\n\u001b[1;32m      3\u001b[0m lis_primos\n",
      "Cell \u001b[0;32mIn [6], line 4\u001b[0m, in \u001b[0;36mextrae_primos_de_lista\u001b[0;34m(lista)\u001b[0m\n\u001b[1;32m      2\u001b[0m lista_primos \u001b[39m=\u001b[39m []\n\u001b[1;32m      3\u001b[0m \u001b[39mfor\u001b[39;00m elemento \u001b[39min\u001b[39;00m lista:\n\u001b[0;32m----> 4\u001b[0m     \u001b[39mif\u001b[39;00m verifica_primo(\u001b[39mint\u001b[39m(elemento)):\n\u001b[1;32m      5\u001b[0m         lista_primos\u001b[39m.\u001b[39mappend(elemento)\n\u001b[1;32m      6\u001b[0m \u001b[39mreturn\u001b[39;00m lista_primos\n",
      "\u001b[0;31mNameError\u001b[0m: name 'verifica_primo' is not defined"
     ]
    }
   ],
   "source": [
    "lis_completa = [1,2,3,4,5,6,7,8,9,10,11,12,13,14,15,16,17,18,19,20]\n",
    "lis_primos = extrae_primos_de_lista(lis_completa)\n",
    "lis_primos"
   ]
  },
  {
   "cell_type": "markdown",
   "metadata": {},
   "source": [
    "3) Crear una función que al recibir una lista de números, devuelva el que más se repite y cuántas veces lo hace. Si hay más de un \"más repetido\", que devuelva cualquiera"
   ]
  },
  {
   "cell_type": "code",
   "execution_count": 17,
   "metadata": {},
   "outputs": [],
   "source": [
    "def valor_modal(lista):\n",
    "    lista_unicos = []\n",
    "    lista_repeticiones = []\n",
    "    if len(lista) == 0:\n",
    "        return None\n",
    "    for elemento in lista:\n",
    "        if elemento in lista_unicos:\n",
    "            i = lista_unicos.index(elemento)\n",
    "            lista_repeticiones[i] += 1\n",
    "        else:\n",
    "            lista_unicos.append(elemento)\n",
    "            lista_repeticiones.append(1)\n",
    "    moda = lista_unicos[0]\n",
    "    maximo = lista_repeticiones[0]\n",
    "    for i, elemento in enumerate(lista_unicos):\n",
    "        if lista_repeticiones[i] > maximo:\n",
    "            moda = lista_unicos[i]\n",
    "            maximo = lista_repeticiones[i]\n",
    "    return moda, maximo"
   ]
  },
  {
   "cell_type": "code",
   "execution_count": 18,
   "metadata": {},
   "outputs": [
    {
     "name": "stdout",
     "output_type": "stream",
     "text": [
      "El valor modal es 5 y se repite 3 veces.\n"
     ]
    }
   ],
   "source": [
    "lis = [1,1,5,6,8,10,22,5,6,4,11,9,5]\n",
    "moda, repite = valor_modal(lis)\n",
    "print('El valor modal es', moda, 'y se repite', repite, 'veces.')"
   ]
  },
  {
   "cell_type": "markdown",
   "metadata": {},
   "source": [
    "4) A la función del punto 3, agregar un parámetro más, que permita elegir si se requiere el menor o el mayor de los mas repetidos."
   ]
  },
  {
   "cell_type": "code",
   "execution_count": 45,
   "metadata": {},
   "outputs": [],
   "source": [
    "def valor_modal(lista, menor):\n",
    "    '''\n",
    "    Esta función devuelve el valor modal y recibe de parámetros dos valores:\n",
    "    1-Una lista de números\n",
    "    2-Verdadero (por defecto) por si se requiere el mínimo de los más repetidos, o Falso si se requiere el máximo\n",
    "    '''\n",
    "    lista_unicos = []\n",
    "    lista_repeticiones = []\n",
    "    if len(lista) == 0:\n",
    "        return None\n",
    "    if (menor):\n",
    "        lista.sort()\n",
    "    else:\n",
    "        lista.sort(reverse=True)\n",
    "    for elemento in lista:\n",
    "        if elemento in lista_unicos:\n",
    "            i = lista_unicos.index(elemento)\n",
    "            lista_repeticiones[i] += 1\n",
    "        else:\n",
    "            lista_unicos.append(elemento)\n",
    "            lista_repeticiones.append(1)\n",
    "    moda = lista_unicos[0]\n",
    "    maximo = lista_repeticiones[0]\n",
    "    for i, elemento in enumerate(lista_unicos):\n",
    "        if lista_repeticiones[i] > maximo:\n",
    "            moda = lista_unicos[i]\n",
    "            maximo = lista_repeticiones[i]\n",
    "    return moda, maximo"
   ]
  },
  {
   "cell_type": "code",
   "execution_count": 46,
   "metadata": {},
   "outputs": [
    {
     "name": "stdout",
     "output_type": "stream",
     "text": [
      "El valor modal es 5 y se repite 3 veces.\n"
     ]
    }
   ],
   "source": [
    "lis = [10,1,5,6,8,10,22,5,6,4,11,10,9,5]\n",
    "moda, repite = valor_modal(lis, True)\n",
    "print('El valor modal es', moda, 'y se repite', repite, 'veces.')"
   ]
  },
  {
   "cell_type": "code",
   "execution_count": 47,
   "metadata": {},
   "outputs": [
    {
     "name": "stdout",
     "output_type": "stream",
     "text": [
      "El valor modal es 10 y se repite 3 veces.\n"
     ]
    }
   ],
   "source": [
    "lis = [10,1,5,6,8,10,22,5,6,4,11,10,9,5]\n",
    "moda, repite = valor_modal(lis, False)\n",
    "print('El valor modal es', moda, 'y se repite', repite, 'veces.')"
   ]
  },
  {
   "cell_type": "markdown",
   "metadata": {},
   "source": [
    "5) Crear una función que convierta entre grados Celsius, Farenheit y Kelvin<br>\n",
    "Fórmula 1\t: (°C × 9/5) + 32 = °F<br>\n",
    "Fórmula 2\t: °C + 273.15 = °K<br>\n",
    "Debe recibir 3 parámetros: el valor, la medida de orígen y la medida de destino\n"
   ]
  },
  {
   "cell_type": "code",
   "execution_count": 56,
   "metadata": {},
   "outputs": [],
   "source": [
    "def conversion_grados(valor, origen, destino):\n",
    "    if (origen == 'celsius'):\n",
    "        if (destino == 'celsius'):\n",
    "            valor_destino = valor\n",
    "        elif (destino == 'farenheit'):\n",
    "            valor_destino = (valor * 9 / 5) + 32\n",
    "        elif (destino == 'kelvin'):\n",
    "            valor_destino = valor + 273.15\n",
    "        else:\n",
    "            print('Parámetro de Destino incorrecto')\n",
    "    elif (origen == 'farenheit'):\n",
    "        if (destino == 'celsius'):\n",
    "            valor_destino = (valor - 32) * 5 / 9\n",
    "        elif (destino == 'farenheit'):\n",
    "            valor_destino = valor\n",
    "        elif (destino == 'kelvin'):\n",
    "            valor_destino = ((valor - 32) * 5 / 9) + 273.15\n",
    "        else:\n",
    "            print('Parámetro de Destino incorrecto')\n",
    "    elif (origen == 'kelvin'):\n",
    "        if (destino == 'celsius'):\n",
    "            valor_destino = valor - 273.15\n",
    "        elif (destino == 'farenheit'):\n",
    "            valor_destino = ((valor - 273.15) * 9 / 5) + 32\n",
    "        elif (destino == 'kelvin'):\n",
    "            valor_destino = valor\n",
    "        else:\n",
    "            print('Parámetro de Destino incorrecto')\n",
    "    else:\n",
    "        print('Parámetro de Origen incorrecto')\n",
    "    return valor_destino"
   ]
  },
  {
   "cell_type": "code",
   "execution_count": 59,
   "metadata": {},
   "outputs": [
    {
     "name": "stdout",
     "output_type": "stream",
     "text": [
      "1 grado Celsius a Celsius: 1\n",
      "1 grado Celsius a Kelvin: 274.15\n",
      "1 grado Celsius a Farenheit: 33.8\n",
      "1 grado Kelvin a Celsius: -272.15\n",
      "1 grado Kelvin a Kelvin: 1\n",
      "1 grado Kelvin a Farenheit: -457.87\n",
      "1 grado Farenheit a Celsius: -17.22222222222222\n",
      "1 grado Farenheit a Kelvin: 255.92777777777775\n",
      "1 grado Farenheit a Farenheit: 1\n"
     ]
    }
   ],
   "source": [
    "print('1 grado Celsius a Celsius:', conversion_grados(1, 'celsius', 'celsius'))\n",
    "print('1 grado Celsius a Kelvin:', conversion_grados(1, 'celsius', 'kelvin'))\n",
    "print('1 grado Celsius a Farenheit:', conversion_grados(1, 'celsius', 'farenheit'))\n",
    "print('1 grado Kelvin a Celsius:', conversion_grados(1, 'kelvin', 'celsius'))\n",
    "print('1 grado Kelvin a Kelvin:', conversion_grados(1, 'kelvin', 'kelvin'))\n",
    "print('1 grado Kelvin a Farenheit:', conversion_grados(1, 'kelvin', 'farenheit'))\n",
    "print('1 grado Farenheit a Celsius:', conversion_grados(1, 'farenheit', 'celsius'))\n",
    "print('1 grado Farenheit a Kelvin:', conversion_grados(1, 'farenheit', 'kelvin'))\n",
    "print('1 grado Farenheit a Farenheit:', conversion_grados(1, 'farenheit', 'farenheit'))"
   ]
  },
  {
   "cell_type": "markdown",
   "metadata": {},
   "source": [
    "6) Iterando una lista con los tres valores posibles de temperatura que recibe la función del punto 5, hacer un print para cada combinación de los mismos:"
   ]
  },
  {
   "cell_type": "code",
   "execution_count": 62,
   "metadata": {},
   "outputs": [
    {
     "name": "stdout",
     "output_type": "stream",
     "text": [
      "1 grado celsius a celsius : 1\n",
      "1 grado celsius a kelvin : 274.15\n",
      "1 grado celsius a farenheit : 33.8\n",
      "1 grado kelvin a celsius : -272.15\n",
      "1 grado kelvin a kelvin : 1\n",
      "1 grado kelvin a farenheit : -457.87\n",
      "1 grado farenheit a celsius : -17.22222222222222\n",
      "1 grado farenheit a kelvin : 255.92777777777775\n",
      "1 grado farenheit a farenheit : 1\n"
     ]
    }
   ],
   "source": [
    "metricas = ['celsius','kelvin','farenheit']\n",
    "for i in range(0,3):\n",
    "    for j in range(0,3):\n",
    "        print('1 grado', metricas[i], 'a', metricas[j],':', conversion_grados(1, metricas[i], metricas[j]))"
   ]
  },
  {
   "cell_type": "markdown",
   "metadata": {},
   "source": [
    "7) Armar una función que devuelva el factorial de un número. Tener en cuenta que el usuario puede equivocarse y enviar de parámetro un número no entero o negativo"
   ]
  },
  {
   "cell_type": "code",
   "execution_count": 65,
   "metadata": {},
   "outputs": [
    {
     "name": "stdout",
     "output_type": "stream",
     "text": [
      "6\n",
      "El numero debe ser pisitivo\n",
      "El numero debe ser un entero\n",
      "El numero debe ser un entero\n"
     ]
    }
   ],
   "source": [
    "def factorial(numero):\n",
    "    if(type(numero) != int):\n",
    "        return 'El numero debe ser un entero'\n",
    "    if(numero < 0):\n",
    "        return 'El numero debe ser pisitivo'\n",
    "    if (numero > 1):\n",
    "        numero = numero * factorial(numero - 1)\n",
    "    return numero\n",
    "print(factorial(3))\n",
    "print(factorial(-2))\n",
    "print(factorial(1.23))\n",
    "print(factorial('6'))"
   ]
  }
 ],
 "metadata": {
  "kernelspec": {
   "display_name": "Python 3.10.6 64-bit",
   "language": "python",
   "name": "python3"
  },
  "language_info": {
   "codemirror_mode": {
    "name": "ipython",
    "version": 3
   },
   "file_extension": ".py",
   "mimetype": "text/x-python",
   "name": "python",
   "nbconvert_exporter": "python",
   "pygments_lexer": "ipython3",
   "version": "3.10.6"
  },
  "vscode": {
   "interpreter": {
    "hash": "916dbcbb3f70747c44a77c7bcd40155683ae19c65e1c03b4aa3499c5328201f1"
   }
  }
 },
 "nbformat": 4,
 "nbformat_minor": 4
}
