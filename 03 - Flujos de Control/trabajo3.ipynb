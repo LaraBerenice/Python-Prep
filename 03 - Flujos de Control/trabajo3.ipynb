{
 "cells": [
  {
   "cell_type": "code",
   "execution_count": null,
   "metadata": {},
   "outputs": [],
   "source": [
    "1) Crear una variable que contenga un elemento del conjunto de números enteros y luego imprimir por pantalla si es mayor o menor a cero"
   ]
  },
  {
   "cell_type": "code",
   "execution_count": 4,
   "metadata": {},
   "outputs": [
    {
     "name": "stdout",
     "output_type": "stream",
     "text": [
      "4 es mayor que cero\n"
     ]
    }
   ],
   "source": [
    "q=4\n",
    "if(q>0): print (str(q),'es mayor que cero')\n",
    "elif(q<0):print (str(q),'es menor que cero')\n",
    "else: 'es cero'\n"
   ]
  },
  {
   "cell_type": "code",
   "execution_count": null,
   "metadata": {},
   "outputs": [],
   "source": [
    "2) Crear dos variables y un condicional que informe si son del mismo tipo de dato"
   ]
  },
  {
   "cell_type": "code",
   "execution_count": 8,
   "metadata": {},
   "outputs": [
    {
     "name": "stdout",
     "output_type": "stream",
     "text": [
      "no son iguales 23 y ww\n"
     ]
    }
   ],
   "source": [
    "v1=23\n",
    "v2='ww'\n",
    "\n",
    "if(type(v1) == type(v2)):print('son iguales',str(v1),'y',str(v2))\n",
    "else: print ('no son iguales',str(v1),'y', str(v2))"
   ]
  },
  {
   "cell_type": "code",
   "execution_count": null,
   "metadata": {},
   "outputs": [],
   "source": [
    "3) Para los valores enteros del 1 al 20, imprimir por pantalla si es par o impar"
   ]
  },
  {
   "cell_type": "code",
   "execution_count": 13,
   "metadata": {},
   "outputs": [
    {
     "name": "stdout",
     "output_type": "stream",
     "text": [
      "1 es impar\n",
      "2 es par\n",
      "3 es impar\n",
      "4 es par\n",
      "5 es impar\n",
      "6 es par\n",
      "7 es impar\n",
      "8 es par\n",
      "9 es impar\n",
      "10 es par\n",
      "11 es impar\n",
      "12 es par\n",
      "13 es impar\n",
      "14 es par\n",
      "15 es impar\n",
      "16 es par\n",
      "17 es impar\n",
      "18 es par\n",
      "19 es impar\n",
      "20 es par\n"
     ]
    }
   ],
   "source": [
    "for i in range(1,21):\n",
    "    if(i%2==0): print (str(i),'es par')\n",
    "    elif (i%2 != 0): print ( str(i),'es impar')"
   ]
  },
  {
   "cell_type": "code",
   "execution_count": null,
   "metadata": {},
   "outputs": [],
   "source": [
    "\n",
    "4) En un ciclo for mostrar para los valores entre 0 y 5 el resultado de elevarlo a la potencia igual a 3"
   ]
  },
  {
   "cell_type": "code",
   "execution_count": 1,
   "metadata": {},
   "outputs": [
    {
     "name": "stdout",
     "output_type": "stream",
     "text": [
      "valor 0 = 0\n",
      "valor 1 = 1\n",
      "valor 2 = 8\n",
      "valor 3 = 27\n",
      "valor 4 = 64\n",
      "valor 5 = 125\n"
     ]
    }
   ],
   "source": [
    "for i in range(0,6): \n",
    "    print( 'valor', str(i),'=', i**3)"
   ]
  },
  {
   "cell_type": "code",
   "execution_count": null,
   "metadata": {},
   "outputs": [],
   "source": [
    "5) Crear una variable que contenga un número entero y realizar un ciclo for la misma cantidad de ciclos\n"
   ]
  },
  {
   "cell_type": "code",
   "execution_count": 27,
   "metadata": {},
   "outputs": [
    {
     "name": "stdout",
     "output_type": "stream",
     "text": [
      "4\n",
      "4\n",
      "4\n",
      "4\n"
     ]
    }
   ],
   "source": [
    "n=4\n",
    "\n",
    "for i in range(0,n): print(4)"
   ]
  },
  {
   "cell_type": "code",
   "execution_count": null,
   "metadata": {},
   "outputs": [],
   "source": [
    "6) Utilizar un ciclo while para realizar el factorial de un número guardado en una variable, sólo si la variable contiene un número entero mayor a 0"
   ]
  },
  {
   "cell_type": "code",
   "execution_count": 14,
   "metadata": {},
   "outputs": [
    {
     "name": "stdout",
     "output_type": "stream",
     "text": [
      "5\n",
      "20\n",
      "60\n",
      "120\n",
      "120\n"
     ]
    }
   ],
   "source": [
    "c = 5\n",
    "factorial=1\n",
    "while (type(c) == int and c >0): \n",
    "    x = factorial = factorial*c\n",
    "    c=c-1\n",
    "    print(x)\n",
    "    \n",
    "  \n",
    "   \n",
    "    "
   ]
  },
  {
   "cell_type": "code",
   "execution_count": null,
   "metadata": {},
   "outputs": [],
   "source": [
    "7) Crear un ciclo for dentro de un ciclo while"
   ]
  },
  {
   "cell_type": "code",
   "execution_count": 15,
   "metadata": {},
   "outputs": [],
   "source": [
    "while():\n",
    "    for c in range(): pass"
   ]
  },
  {
   "cell_type": "code",
   "execution_count": null,
   "metadata": {},
   "outputs": [],
   "source": [
    "8) Crear un ciclo while dentro de un ciclo for"
   ]
  },
  {
   "cell_type": "code",
   "execution_count": 18,
   "metadata": {},
   "outputs": [],
   "source": [
    "for c in range(0,2): \n",
    "    while(): pass"
   ]
  },
  {
   "cell_type": "code",
   "execution_count": null,
   "metadata": {},
   "outputs": [],
   "source": [
    "9) Imprimir los números primos existentes entre 0 y 30"
   ]
  },
  {
   "cell_type": "code",
   "execution_count": 25,
   "metadata": {},
   "outputs": [
    {
     "name": "stdout",
     "output_type": "stream",
     "text": [
      "0\n",
      "2\n",
      "4\n",
      "6\n",
      "8\n",
      "10\n",
      "12\n",
      "14\n",
      "16\n",
      "18\n",
      "20\n",
      "22\n",
      "24\n",
      "26\n",
      "28\n",
      "30\n"
     ]
    }
   ],
   "source": [
    "\n",
    "for i in range (0,31):\n",
    "    if(i%2 == 0): print(str(i))"
   ]
  },
  {
   "cell_type": "code",
   "execution_count": null,
   "metadata": {},
   "outputs": [],
   "source": [
    "10) ¿Se puede mejorar el proceso del punto 9? Utilizar las sentencias break y/ó continue para tal fin"
   ]
  },
  {
   "cell_type": "code",
   "execution_count": 26,
   "metadata": {},
   "outputs": [
    {
     "name": "stdout",
     "output_type": "stream",
     "text": [
      "0 es un numero primo\n",
      "2 es un numero primo\n",
      "4 es un numero primo\n",
      "6 es un numero primo\n",
      "8 es un numero primo\n",
      "10 es un numero primo\n",
      "12 es un numero primo\n",
      "14 es un numero primo\n",
      "16 es un numero primo\n",
      "18 es un numero primo\n",
      "20 es un numero primo\n",
      "22 es un numero primo\n",
      "24 es un numero primo\n",
      "26 es un numero primo\n",
      "28 es un numero primo\n",
      "30 es un numero primo\n"
     ]
    }
   ],
   "source": [
    "for i in range (0,31):\n",
    "    if(i%2 == 0): print(str(i),'es un numero primo')\n",
    "    else: continue"
   ]
  },
  {
   "cell_type": "code",
   "execution_count": null,
   "metadata": {},
   "outputs": [],
   "source": [
    "11) En los puntos 9 y 10, se diseño un código que encuentra números primos y además se lo optimizó. ¿Es posible saber en qué medida se optimizó?"
   ]
  },
  {
   "cell_type": "code",
   "execution_count": null,
   "metadata": {},
   "outputs": [],
   "source": [
    "12) Si la cantidad de números que se evalúa es mayor a treinta, esa optimización crece?"
   ]
  },
  {
   "cell_type": "code",
   "execution_count": null,
   "metadata": {},
   "outputs": [],
   "source": [
    "----------------------------------------------------------------------------------------------------"
   ]
  },
  {
   "cell_type": "code",
   "execution_count": null,
   "metadata": {},
   "outputs": [],
   "source": [
    "13) Aplicando continue, armar un ciclo while que solo imprima los valores divisibles por 12, dentro del rango de números de 100 a 300"
   ]
  },
  {
   "cell_type": "code",
   "execution_count": 48,
   "metadata": {},
   "outputs": [
    {
     "name": "stdout",
     "output_type": "stream",
     "text": [
      "108 es divisibles por 12\n",
      "120 es divisibles por 12\n",
      "132 es divisibles por 12\n",
      "144 es divisibles por 12\n",
      "156 es divisibles por 12\n",
      "168 es divisibles por 12\n",
      "180 es divisibles por 12\n",
      "192 es divisibles por 12\n",
      "204 es divisibles por 12\n",
      "216 es divisibles por 12\n",
      "228 es divisibles por 12\n",
      "240 es divisibles por 12\n",
      "252 es divisibles por 12\n",
      "264 es divisibles por 12\n",
      "276 es divisibles por 12\n",
      "288 es divisibles por 12\n",
      "300 es divisibles por 12\n"
     ]
    }
   ],
   "source": [
    "n=100\n",
    "\n",
    "while (n<=300): \n",
    "    n = n + 1\n",
    "    if(n % 12 != 0): continue \n",
    "\n",
    "    print( str(n),\"es divisibles por 12\")"
   ]
  },
  {
   "cell_type": "code",
   "execution_count": null,
   "metadata": {},
   "outputs": [],
   "source": [
    "14) Utilizar la función **input()** que permite hacer ingresos por teclado, para encontrar números primos y dar la opción al usario de buscar el siguiente"
   ]
  },
  {
   "cell_type": "code",
   "execution_count": 1,
   "metadata": {},
   "outputs": [
    {
     "name": "stdout",
     "output_type": "stream",
     "text": [
      "7 no es un numero primo\n"
     ]
    }
   ],
   "source": [
    "a = input('ingrese un valor')\n",
    "if (int(a) % 2 == 0) : print (str(a), 'es un numero primo')\n",
    "else: print (str(a),'no es un numero primo')"
   ]
  },
  {
   "cell_type": "code",
   "execution_count": null,
   "metadata": {},
   "outputs": [],
   "source": [
    "\n",
    "15) Crear un ciclo while que encuentre dentro del rango de 100 a 300 el primer número divisible por 3 y además múltiplo de 6"
   ]
  },
  {
   "cell_type": "code",
   "execution_count": 76,
   "metadata": {},
   "outputs": [
    {
     "name": "stdout",
     "output_type": "stream",
     "text": [
      "El número es:  102\n",
      "El número es:  108\n",
      "El número es:  114\n",
      "El número es:  120\n",
      "El número es:  126\n",
      "El número es:  132\n",
      "El número es:  138\n",
      "El número es:  144\n",
      "El número es:  150\n",
      "El número es:  156\n",
      "El número es:  162\n",
      "El número es:  168\n",
      "El número es:  174\n",
      "El número es:  180\n",
      "El número es:  186\n",
      "El número es:  192\n",
      "El número es:  198\n",
      "El número es:  204\n",
      "El número es:  210\n",
      "El número es:  216\n",
      "El número es:  222\n",
      "El número es:  228\n",
      "El número es:  234\n",
      "El número es:  240\n",
      "El número es:  246\n",
      "El número es:  252\n",
      "El número es:  258\n",
      "El número es:  264\n",
      "El número es:  270\n",
      "El número es:  276\n",
      "El número es:  282\n",
      "El número es:  288\n",
      "El número es:  294\n",
      "El número es:  300\n"
     ]
    }
   ],
   "source": [
    "n = 100\n",
    "while(n<=300):\n",
    "\n",
    "    if(int(n)%6 == 0): print('El número es:', str(n)),\n",
    "    \n",
    "    n += 1"
   ]
  }
 ],
 "metadata": {
  "kernelspec": {
   "display_name": "Python 3.10.6 64-bit",
   "language": "python",
   "name": "python3"
  },
  "language_info": {
   "codemirror_mode": {
    "name": "ipython",
    "version": 3
   },
   "file_extension": ".py",
   "mimetype": "text/x-python",
   "name": "python",
   "nbconvert_exporter": "python",
   "pygments_lexer": "ipython3",
   "version": "3.10.6"
  },
  "orig_nbformat": 4,
  "vscode": {
   "interpreter": {
    "hash": "916dbcbb3f70747c44a77c7bcd40155683ae19c65e1c03b4aa3499c5328201f1"
   }
  }
 },
 "nbformat": 4,
 "nbformat_minor": 2
}
