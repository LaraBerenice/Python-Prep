{
 "cells": [
  {
   "cell_type": "code",
   "execution_count": null,
   "metadata": {},
   "outputs": [],
   "source": [
    "1) Crear la clase vehículo que contenga los atributos:\n",
    "<br>Color<br>\n",
    "\n",
    "Si es moto, auto, camioneta ó camión\n",
    "\n",
    "<br>Cilindrada del motor"
   ]
  },
  {
   "cell_type": "code",
   "execution_count": 72,
   "metadata": {},
   "outputs": [],
   "source": [
    "class vehiculo:\n",
    "\n",
    "    def __init__(self,color,Cilindrada):\n",
    "        \n",
    "        self.color = color\n",
    "        self.Cilindrada= Cilindrada"
   ]
  },
  {
   "cell_type": "code",
   "execution_count": null,
   "metadata": {},
   "outputs": [],
   "source": [
    "2) A la clase Vehiculo creada en el punto 1, agregar los siguientes métodos:\n",
    "\n",
    "<br>Acelerar<br>Frenar<br>Doblar<br>"
   ]
  },
  {
   "cell_type": "code",
   "execution_count": 85,
   "metadata": {},
   "outputs": [],
   "source": [
    "class vehiculo:\n",
    "\n",
    "    def __init__(self,color,Cilindrada):\n",
    "        \n",
    "        self.color = color\n",
    "        self.Cilindrada = Cilindrada \n",
    "        \n",
    "\n",
    "    def acelerar (self):\n",
    "        return('voy a acelerar')\n",
    "    def Frenar (self):\n",
    "        return ('voy a Frenar')\n",
    "    def Doblar (self):\n",
    "        return ('voy a Doblar')"
   ]
  },
  {
   "cell_type": "code",
   "execution_count": null,
   "metadata": {},
   "outputs": [],
   "source": [
    "\n",
    "3) Instanciar 3 objetos de la clase vehículo y ejecutar sus métodos, probar luego el resultado"
   ]
  },
  {
   "cell_type": "code",
   "execution_count": 89,
   "metadata": {},
   "outputs": [],
   "source": [
    "objeto = vehiculo ('azul',8)\n",
    "objeto2 = vehiculo('negro',7)\n",
    "objeto3 = vehiculo('amarillo',3)"
   ]
  },
  {
   "cell_type": "code",
   "execution_count": 90,
   "metadata": {},
   "outputs": [
    {
     "name": "stdout",
     "output_type": "stream",
     "text": [
      "voy a acelerar\n",
      "azul\n",
      "voy a Doblar\n"
     ]
    }
   ],
   "source": [
    "print(objeto.acelerar())\n",
    "\n",
    "print(objeto.color)\n",
    "\n",
    "print(objeto.Doblar())"
   ]
  },
  {
   "cell_type": "code",
   "execution_count": null,
   "metadata": {},
   "outputs": [],
   "source": [
    "4) Agregar a la clase Vehiculo, un método que muestre su estado, es decir, a que velocidad se encuentra y su dirección. Y otro método que muestre color, tipo y cilindrada\n"
   ]
  },
  {
   "cell_type": "code",
   "execution_count": 101,
   "metadata": {},
   "outputs": [],
   "source": [
    "class vehiculo:\n",
    "\n",
    "    def __init__(self,color,Cilindrada):\n",
    "        \n",
    "        self.color = color\n",
    "        self.Cilindrada = Cilindrada\n",
    "        \n",
    "\n",
    "    def acelerar (self):\n",
    "        return('voy a acelerar')\n",
    "    def Frenar (self):\n",
    "        return ('voy a Frenar')\n",
    "    def Doblar (self):\n",
    "        return ('voy a Doblar')\n",
    "    def ESTADO (self):\n",
    "        return self.color,self.Cilindrada"
   ]
  },
  {
   "cell_type": "code",
   "execution_count": 102,
   "metadata": {},
   "outputs": [],
   "source": [
    "objeto = vehiculo ('azul',8)\n",
    "objeto2 = vehiculo('negro',7)\n",
    "objeto3 = vehiculo('amarillo',3)"
   ]
  },
  {
   "cell_type": "code",
   "execution_count": 103,
   "metadata": {},
   "outputs": [
    {
     "data": {
      "text/plain": [
       "('negro', 7)"
      ]
     },
     "execution_count": 103,
     "metadata": {},
     "output_type": "execute_result"
    }
   ],
   "source": [
    "objeto2.ESTADO()"
   ]
  },
  {
   "cell_type": "code",
   "execution_count": null,
   "metadata": {},
   "outputs": [],
   "source": [
    "5) Crear una clase que permita utilizar las funciones creadas en la práctica del módulo 6 \n",
    "\n",
    "<br>Verificar Primo<br>Valor modal<br>Conversión grados<br>actorial<br>"
   ]
  },
  {
   "cell_type": "code",
   "execution_count": 158,
   "metadata": {},
   "outputs": [],
   "source": [
    "class Herramientas:\n",
    "\n",
    "    def __init__ (self,listaa): \n",
    "         self.listaa =listaa \n",
    "\n",
    "    def NumeroPrimo(self):\n",
    "        for i in range(2,self.listaa):\n",
    "            if(self.listaa % i == 0):\n",
    "                return (True)\n",
    "            break\n",
    "        else: return (False)\n",
    "\n",
    "    def ParametroLista(self,NumeroPrimo):\n",
    "        lista2 = []\n",
    "        for elemento in self.listaa:\n",
    "            if (NumeroPrimo(int(elemento))):\n",
    "                lista2.append(elemento)\n",
    "                return lista2\n",
    "                \n",
    "    def elNuemeroQueMasSeRepite(self):\n",
    "        \n",
    "        dicc = {}\n",
    "        for num in self.listaa:\n",
    "            clave = str(num)\n",
    "\n",
    "            if not clave in dicc:\n",
    "                dicc[clave] = 1\n",
    "            else:\n",
    "                dicc[clave] += 1\n",
    "                    \n",
    "            a = input('maximo o minimo')\n",
    "\n",
    "            if (a == 'maximo'):\n",
    "                dicc.get(clave)\n",
    "                return 'el maximo valor es', max(dicc, key=dicc.get)\n",
    "            elif (a == 'minimo'):\n",
    "                    return 'el minimo valor es', min(dicc, key=dicc.get)\n",
    "\n",
    "    def Temperatura(cecius_numOrig, GradosCambio,Destino):\n",
    "        if ( GradosCambio > 0 and Destino =='F'):\n",
    "            return 'Farenheit', round(((cecius_numOrig * 9/5) + 32),2)\n",
    "        elif ( GradosCambio > 0 and Destino == str('K')):\n",
    "            return 'Kelvin', round((cecius_numOrig + 273.15),2)\n",
    "\n",
    "    def Factorial(self):\n",
    "        \n",
    "        if(type(self.listaa) != int):\n",
    "            return 'no es un numero entero'\n",
    "        elif (self.listaa<0):\n",
    "            return 'no es un numero positivo'\n",
    "        elif(self.listaa>0):\n",
    "            n = 0\n",
    "            Factorial = 1\n",
    "            while (n < self.listaa):\n",
    "                n += 1\n",
    "                Factorial*= n\n",
    "            return Factorial\n"
   ]
  },
  {
   "cell_type": "code",
   "execution_count": null,
   "metadata": {},
   "outputs": [],
   "source": [
    "6) Probar las funciones incorporadas en la clase del punto 5"
   ]
  },
  {
   "cell_type": "code",
   "execution_count": 13,
   "metadata": {},
   "outputs": [],
   "source": [
    "L=[1,8,4,7,54,69,78]"
   ]
  },
  {
   "cell_type": "code",
   "execution_count": 14,
   "metadata": {},
   "outputs": [
    {
     "name": "stdout",
     "output_type": "stream",
     "text": [
      "True\n"
     ]
    }
   ],
   "source": [
    "print(Herramientas.NumeroPrimo(4))"
   ]
  },
  {
   "cell_type": "code",
   "execution_count": 15,
   "metadata": {},
   "outputs": [
    {
     "name": "stdout",
     "output_type": "stream",
     "text": [
      "True\n",
      "('el minimo valor es', '1')\n",
      "('Kelvin', 277.15)\n",
      "40320\n"
     ]
    }
   ],
   "source": [
    "print(Herramientas.NumeroPrimo(4))\n",
    "print(Herramientas.elNuemeroQueMasSeRepite(L))\n",
    "print(Herramientas.Temperatura(4,5,'K'))\n",
    "print(Herramientas.Factorial(8))"
   ]
  },
  {
   "cell_type": "code",
   "execution_count": null,
   "metadata": {},
   "outputs": [],
   "source": [
    "7) Es necesario que la clase creada en el punto 5 contenga una lista, sobre la cual se apliquen las funciones incorporadas"
   ]
  },
  {
   "cell_type": "code",
   "execution_count": 197,
   "metadata": {},
   "outputs": [],
   "source": [
    "class Herramientas:\n",
    "\n",
    "    def __init__(self, listaa):\n",
    "\n",
    "        self.listaa = listaa\n",
    "\n",
    "    def __NumeroPrimo(self, num):\n",
    "        for i in range(2, num):\n",
    "            if (num % i == 0):\n",
    "                return (True)\n",
    "            break\n",
    "        else:\n",
    "            return (False)\n",
    "\n",
    "    def DevuelveSoloPrimos(self):\n",
    "        lista2 = []\n",
    "        for elemento in self.listaa:\n",
    "            if (self.__NumeroPrimo(int(elemento))):\n",
    "                lista2.append(elemento)\n",
    "                return lista2\n",
    "\n",
    "    def elNuemeroQueMasSeRepite(self):\n",
    "    \n",
    "        dicc = {}\n",
    "\n",
    "        for num in self.listaa:\n",
    "            clave = str(num)\n",
    "\n",
    "            if not clave in dicc:\n",
    "                dicc[clave] = 1\n",
    "            else:\n",
    "                dicc[clave] += 1\n",
    "\n",
    "        a = input('maximo o minimo')\n",
    "\n",
    "        if (a == 'maximo'):\n",
    "            dicc.get(clave)\n",
    "            return 'el maximo valor repetido es', max(dicc, key=dicc.get)\n",
    "        elif (a == 'minimo'):\n",
    "            return 'el minimo valor repetido es', min(dicc, key=dicc.get)\n",
    "\n",
    "    def Temperatura(self, celcius, GradosCambio, Destino):\n",
    "        if (GradosCambio > 0 and Destino == 'F'):\n",
    "            return 'Farenheit', round(((celcius* 9/5) + 32), 2)\n",
    "        elif (GradosCambio > 0 and Destino == str('K')):\n",
    "            return 'Kelvin', round((celcius + 273.15), 2)\n",
    "\n",
    "    def Factorial(self):\n",
    "\n",
    "        if (type(self.listaa) != int):\n",
    "            return 'no es un numero entero'\n",
    "        elif (self.listaa < 0):\n",
    "            return 'no es un numero positivo'\n",
    "        elif (self.listaa > 0):\n",
    "            n = 0\n",
    "            Factorial = 1\n",
    "            while (n < self.listaa):\n",
    "                n += 1\n",
    "                Factorial *= n\n",
    "            return Factorial\n"
   ]
  },
  {
   "cell_type": "code",
   "execution_count": 200,
   "metadata": {},
   "outputs": [],
   "source": [
    "h = Herramientas ([1,8,8,4,6,5,12,455,47,75])"
   ]
  },
  {
   "cell_type": "code",
   "execution_count": 201,
   "metadata": {},
   "outputs": [
    {
     "name": "stdout",
     "output_type": "stream",
     "text": [
      "[8]\n"
     ]
    }
   ],
   "source": [
    "print(h.DevuelveSoloPrimos())"
   ]
  },
  {
   "cell_type": "code",
   "execution_count": 191,
   "metadata": {},
   "outputs": [
    {
     "data": {
      "text/plain": [
       "('el maximo valor es', '8')"
      ]
     },
     "execution_count": 191,
     "metadata": {},
     "output_type": "execute_result"
    }
   ],
   "source": [
    "h.elNuemeroQueMasSeRepite()"
   ]
  },
  {
   "cell_type": "code",
   "execution_count": 203,
   "metadata": {},
   "outputs": [
    {
     "data": {
      "text/plain": [
       "('Farenheit', 104.0)"
      ]
     },
     "execution_count": 203,
     "metadata": {},
     "output_type": "execute_result"
    }
   ],
   "source": [
    "h.Temperatura(40,5,'F')"
   ]
  },
  {
   "cell_type": "code",
   "execution_count": 204,
   "metadata": {},
   "outputs": [
    {
     "data": {
      "text/plain": [
       "'no es un numero entero'"
      ]
     },
     "execution_count": 204,
     "metadata": {},
     "output_type": "execute_result"
    }
   ],
   "source": [
    "h.Factorial()"
   ]
  },
  {
   "cell_type": "code",
   "execution_count": null,
   "metadata": {},
   "outputs": [],
   "source": [
    "8) Crear un archivo .py aparte y ubicar allí la clase generada en el punto anterior. Luego realizar la importación del módulo y probar alguna de sus funciones"
   ]
  },
  {
   "cell_type": "code",
   "execution_count": 211,
   "metadata": {},
   "outputs": [
    {
     "ename": "ModuleNotFoundError",
     "evalue": "No module named 'H'",
     "output_type": "error",
     "traceback": [
      "\u001b[0;31m---------------------------------------------------------------------------\u001b[0m",
      "\u001b[0;31mModuleNotFoundError\u001b[0m                       Traceback (most recent call last)",
      "Cell \u001b[0;32mIn [211], line 1\u001b[0m\n\u001b[0;32m----> 1\u001b[0m \u001b[39mfrom\u001b[39;00m \u001b[39mH\u001b[39;00m \u001b[39mimport\u001b[39;00m\u001b[39m*\u001b[39m\n",
      "\u001b[0;31mModuleNotFoundError\u001b[0m: No module named 'H'"
     ]
    }
   ],
   "source": [
    "from H import*"
   ]
  }
 ],
 "metadata": {
  "kernelspec": {
   "display_name": "Python 3.10.6 64-bit",
   "language": "python",
   "name": "python3"
  },
  "language_info": {
   "codemirror_mode": {
    "name": "ipython",
    "version": 3
   },
   "file_extension": ".py",
   "mimetype": "text/x-python",
   "name": "python",
   "nbconvert_exporter": "python",
   "pygments_lexer": "ipython3",
   "version": "3.10.6"
  },
  "orig_nbformat": 4,
  "vscode": {
   "interpreter": {
    "hash": "916dbcbb3f70747c44a77c7bcd40155683ae19c65e1c03b4aa3499c5328201f1"
   }
  }
 },
 "nbformat": 4,
 "nbformat_minor": 2
}
