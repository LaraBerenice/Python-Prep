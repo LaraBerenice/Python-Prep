{
 "cells": [
  {
   "cell_type": "markdown",
   "metadata": {},
   "source": [
    "## Variables"
   ]
  },
  {
   "cell_type": "code",
   "execution_count": 1,
   "metadata": {},
   "outputs": [],
   "source": [
    "mi_var = 12 + 1"
   ]
  },
  {
   "cell_type": "code",
   "execution_count": 2,
   "metadata": {},
   "outputs": [
    {
     "name": "stdout",
     "output_type": "stream",
     "text": [
      "13\n"
     ]
    }
   ],
   "source": [
    "print(mi_var)"
   ]
  },
  {
   "cell_type": "code",
   "execution_count": 4,
   "metadata": {},
   "outputs": [],
   "source": [
    "mi_variable1 = 10.25\n",
    "mi_variable2 = 10\n",
    "mi_variable3 = 'hola'\n",
    "mi_variable4 = True\n",
    "mi_variable5 = 1 + 1j"
   ]
  },
  {
   "cell_type": "code",
   "execution_count": 5,
   "metadata": {},
   "outputs": [
    {
     "data": {
      "text/plain": [
       "True"
      ]
     },
     "execution_count": 5,
     "metadata": {},
     "output_type": "execute_result"
    }
   ],
   "source": [
    "mi_variable2 != 2"
   ]
  },
  {
   "cell_type": "code",
   "execution_count": 6,
   "metadata": {},
   "outputs": [],
   "source": [
    "mi_var1 = \"True\"\n",
    "mi_var2 = False"
   ]
  },
  {
   "cell_type": "code",
   "execution_count": 7,
   "metadata": {},
   "outputs": [
    {
     "data": {
      "text/plain": [
       "str"
      ]
     },
     "execution_count": 7,
     "metadata": {},
     "output_type": "execute_result"
    }
   ],
   "source": [
    "type(mi_var1)"
   ]
  },
  {
   "cell_type": "code",
   "execution_count": 8,
   "metadata": {},
   "outputs": [
    {
     "data": {
      "text/plain": [
       "True"
      ]
     },
     "execution_count": 8,
     "metadata": {},
     "output_type": "execute_result"
    }
   ],
   "source": [
    "bool(mi_var1)"
   ]
  },
  {
   "cell_type": "code",
   "execution_count": 9,
   "metadata": {},
   "outputs": [
    {
     "data": {
      "text/plain": [
       "False"
      ]
     },
     "execution_count": 9,
     "metadata": {},
     "output_type": "execute_result"
    }
   ],
   "source": [
    "mi_var1 and mi_var2"
   ]
  },
  {
   "cell_type": "code",
   "execution_count": 10,
   "metadata": {},
   "outputs": [],
   "source": [
    "mi_variable1 = \"10.75\"\n",
    "mi_variable2 = 0.75"
   ]
  },
  {
   "cell_type": "code",
   "execution_count": 11,
   "metadata": {},
   "outputs": [
    {
     "data": {
      "text/plain": [
       "str"
      ]
     },
     "execution_count": 11,
     "metadata": {},
     "output_type": "execute_result"
    }
   ],
   "source": [
    "type(mi_variable1)"
   ]
  },
  {
   "cell_type": "code",
   "execution_count": 12,
   "metadata": {},
   "outputs": [],
   "source": [
    "mi_variable1 = float(mi_variable1)"
   ]
  },
  {
   "cell_type": "code",
   "execution_count": 13,
   "metadata": {},
   "outputs": [
    {
     "name": "stdout",
     "output_type": "stream",
     "text": [
      "11.5\n"
     ]
    }
   ],
   "source": [
    "print(mi_variable1 + mi_variable2)"
   ]
  },
  {
   "cell_type": "code",
   "execution_count": 14,
   "metadata": {},
   "outputs": [
    {
     "data": {
      "text/plain": [
       "1"
      ]
     },
     "execution_count": 14,
     "metadata": {},
     "output_type": "execute_result"
    }
   ],
   "source": [
    "10 % 3"
   ]
  },
  {
   "cell_type": "code",
   "execution_count": 15,
   "metadata": {},
   "outputs": [
    {
     "data": {
      "text/plain": [
       "9"
      ]
     },
     "execution_count": 15,
     "metadata": {},
     "output_type": "execute_result"
    }
   ],
   "source": [
    "3 * 3"
   ]
  },
  {
   "cell_type": "code",
   "execution_count": 16,
   "metadata": {},
   "outputs": [
    {
     "data": {
      "text/plain": [
       "0.0"
      ]
     },
     "execution_count": 16,
     "metadata": {},
     "output_type": "execute_result"
    }
   ],
   "source": [
    "float()"
   ]
  },
  {
   "cell_type": "code",
   "execution_count": 17,
   "metadata": {},
   "outputs": [
    {
     "name": "stdout",
     "output_type": "stream",
     "text": [
      "hola\n"
     ]
    }
   ],
   "source": [
    "print(mi_variable3)"
   ]
  },
  {
   "cell_type": "code",
   "execution_count": 18,
   "metadata": {},
   "outputs": [],
   "source": [
    "mi_variable6 = True\n",
    "mi_variable7 = False"
   ]
  },
  {
   "cell_type": "code",
   "execution_count": null,
   "metadata": {},
   "outputs": [],
   "source": []
  },
  {
   "cell_type": "code",
   "execution_count": 19,
   "metadata": {},
   "outputs": [
    {
     "name": "stdout",
     "output_type": "stream",
     "text": [
      "Hola Mundo !\n"
     ]
    }
   ],
   "source": [
    "a = 'Hola '\n",
    "b = 'Mundo !'\n",
    "print(a + b)"
   ]
  },
  {
   "cell_type": "code",
   "execution_count": 20,
   "metadata": {},
   "outputs": [
    {
     "name": "stdout",
     "output_type": "stream",
     "text": [
      "15\n"
     ]
    }
   ],
   "source": [
    "x = 3\n",
    "y = 12\n",
    "print(x + y)"
   ]
  },
  {
   "cell_type": "code",
   "execution_count": 21,
   "metadata": {},
   "outputs": [
    {
     "ename": "TypeError",
     "evalue": "can only concatenate str (not \"int\") to str",
     "output_type": "error",
     "traceback": [
      "\u001b[0;31m---------------------------------------------------------------------------\u001b[0m",
      "\u001b[0;31mTypeError\u001b[0m                                 Traceback (most recent call last)",
      "Cell \u001b[0;32mIn [21], line 1\u001b[0m\n\u001b[0;32m----> 1\u001b[0m \u001b[39mprint\u001b[39m(a \u001b[39m+\u001b[39;49m x)\n",
      "\u001b[0;31mTypeError\u001b[0m: can only concatenate str (not \"int\") to str"
     ]
    }
   ],
   "source": [
    "print(a + x)"
   ]
  },
  {
   "cell_type": "code",
   "execution_count": null,
   "metadata": {},
   "outputs": [
    {
     "ename": "",
     "evalue": "",
     "output_type": "error",
     "traceback": [
      "\u001b[1;31mNo se puede iniciar Jupyter. Error al intentar buscar Jupyter: La ejecución de celdas con 'Python 3.10.6 64-bit' requieren el paquete notebook.\n",
      "\u001b[1;31mEjecute el siguiente comando para instalar 'jupyter y notebook' en el entorno de Python. comando \n",
      "\u001b[1;31m: 'python -m pip install jupyter notebook -U\n",
      "\u001b[1;31mor\n",
      "\u001b[1;31mconda install jupyter notebook -U'\n",
      "\u001b[1;31mHaga clic <a href='https://aka.ms/installJupyterForVSCode'>aquí</a> para obtener más información."
     ]
    }
   ],
   "source": [
    "# Dividir \"y\" entre \"x\"\n",
    "y = 9\n",
    "x = 3\n",
    "print(y/x)"
   ]
  },
  {
   "cell_type": "code",
   "execution_count": null,
   "metadata": {},
   "outputs": [
    {
     "ename": "",
     "evalue": "",
     "output_type": "error",
     "traceback": [
      "\u001b[1;31mNo se puede iniciar Jupyter. Error al intentar buscar Jupyter: La ejecución de celdas con 'Python 3.10.6 64-bit' requieren el paquete notebook.\n",
      "\u001b[1;31mEjecute el siguiente comando para instalar 'jupyter y notebook' en el entorno de Python. comando \n",
      "\u001b[1;31m: 'python -m pip install jupyter notebook -U\n",
      "\u001b[1;31mor\n",
      "\u001b[1;31mconda install jupyter notebook -U'\n",
      "\u001b[1;31mHaga clic <a href='https://aka.ms/installJupyterForVSCode'>aquí</a> para obtener más información."
     ]
    }
   ],
   "source": [
    "# Potencia de \"y\" elevado a la \"x\"\n",
    "y = 2\n",
    "x = 4\n",
    "print(y**x)"
   ]
  },
  {
   "cell_type": "code",
   "execution_count": null,
   "metadata": {},
   "outputs": [
    {
     "ename": "",
     "evalue": "",
     "output_type": "error",
     "traceback": [
      "\u001b[1;31mNo se puede iniciar Jupyter. Error al intentar buscar Jupyter: La ejecución de celdas con 'Python 3.10.6 64-bit' requieren el paquete notebook.\n",
      "\u001b[1;31mEjecute el siguiente comando para instalar 'jupyter y notebook' en el entorno de Python. comando \n",
      "\u001b[1;31m: 'python -m pip install jupyter notebook -U\n",
      "\u001b[1;31mor\n",
      "\u001b[1;31mconda install jupyter notebook -U'\n",
      "\u001b[1;31mHaga clic <a href='https://aka.ms/installJupyterForVSCode'>aquí</a> para obtener más información."
     ]
    }
   ],
   "source": [
    "# Devolver el resto de la división\n",
    "y = 13\n",
    "x = 3\n",
    "print(y%x)"
   ]
  },
  {
   "cell_type": "code",
   "execution_count": null,
   "metadata": {},
   "outputs": [
    {
     "ename": "",
     "evalue": "",
     "output_type": "error",
     "traceback": [
      "\u001b[1;31mNo se puede iniciar Jupyter. Error al intentar buscar Jupyter: La ejecución de celdas con 'Python 3.10.6 64-bit' requieren el paquete notebook.\n",
      "\u001b[1;31mEjecute el siguiente comando para instalar 'jupyter y notebook' en el entorno de Python. comando \n",
      "\u001b[1;31m: 'python -m pip install jupyter notebook -U\n",
      "\u001b[1;31mor\n",
      "\u001b[1;31mconda install jupyter notebook -U'\n",
      "\u001b[1;31mHaga clic <a href='https://aka.ms/installJupyterForVSCode'>aquí</a> para obtener más información."
     ]
    }
   ],
   "source": [
    "valor = 0\n",
    "if (valor < 0):\n",
    "    print('El número es negativo')\n",
    "elif (valor > 0):\n",
    "    print('El número es positivo')\n",
    "else:\n",
    "    print('El número es igual a cero')"
   ]
  },
  {
   "cell_type": "code",
   "execution_count": null,
   "metadata": {},
   "outputs": [
    {
     "ename": "",
     "evalue": "",
     "output_type": "error",
     "traceback": [
      "\u001b[1;31mNo se puede iniciar Jupyter. Error al intentar buscar Jupyter: La ejecución de celdas con 'Python 3.10.6 64-bit' requieren el paquete notebook.\n",
      "\u001b[1;31mEjecute el siguiente comando para instalar 'jupyter y notebook' en el entorno de Python. comando \n",
      "\u001b[1;31m: 'python -m pip install jupyter notebook -U\n",
      "\u001b[1;31mor\n",
      "\u001b[1;31mconda install jupyter notebook -U'\n",
      "\u001b[1;31mHaga clic <a href='https://aka.ms/installJupyterForVSCode'>aquí</a> para obtener más información."
     ]
    }
   ],
   "source": [
    "for n in range(1,10):\n",
    "    print(n)"
   ]
  },
  {
   "cell_type": "code",
   "execution_count": null,
   "metadata": {},
   "outputs": [
    {
     "ename": "",
     "evalue": "",
     "output_type": "error",
     "traceback": [
      "\u001b[1;31mNo se puede iniciar Jupyter. Error al intentar buscar Jupyter: La ejecución de celdas con 'Python 3.10.6 64-bit' requieren el paquete notebook.\n",
      "\u001b[1;31mEjecute el siguiente comando para instalar 'jupyter y notebook' en el entorno de Python. comando \n",
      "\u001b[1;31m: 'python -m pip install jupyter notebook -U\n",
      "\u001b[1;31mor\n",
      "\u001b[1;31mconda install jupyter notebook -U'\n",
      "\u001b[1;31mHaga clic <a href='https://aka.ms/installJupyterForVSCode'>aquí</a> para obtener más información."
     ]
    }
   ],
   "source": [
    "n = 1\n",
    "while (n < 10):\n",
    "    print(n)\n",
    "    n = n + 1"
   ]
  },
  {
   "cell_type": "code",
   "execution_count": null,
   "metadata": {},
   "outputs": [
    {
     "ename": "",
     "evalue": "",
     "output_type": "error",
     "traceback": [
      "\u001b[1;31mNo se puede iniciar Jupyter. Error al intentar buscar Jupyter: La ejecución de celdas con 'Python 3.10.6 64-bit' requieren el paquete notebook.\n",
      "\u001b[1;31mEjecute el siguiente comando para instalar 'jupyter y notebook' en el entorno de Python. comando \n",
      "\u001b[1;31m: 'python -m pip install jupyter notebook -U\n",
      "\u001b[1;31mor\n",
      "\u001b[1;31mconda install jupyter notebook -U'\n",
      "\u001b[1;31mHaga clic <a href='https://aka.ms/installJupyterForVSCode'>aquí</a> para obtener más información."
     ]
    }
   ],
   "source": [
    "edad = (3,1,0.2,8,7)\n",
    "print(len(edad))"
   ]
  },
  {
   "cell_type": "markdown",
   "metadata": {},
   "source": [
    "Listas"
   ]
  },
  {
   "cell_type": "code",
   "execution_count": null,
   "metadata": {},
   "outputs": [
    {
     "ename": "",
     "evalue": "",
     "output_type": "error",
     "traceback": [
      "\u001b[1;31mNo se puede iniciar Jupyter. Error al intentar buscar Jupyter: La ejecución de celdas con 'Python 3.10.6 64-bit' requieren el paquete notebook.\n",
      "\u001b[1;31mEjecute el siguiente comando para instalar 'jupyter y notebook' en el entorno de Python. comando \n",
      "\u001b[1;31m: 'python -m pip install jupyter notebook -U\n",
      "\u001b[1;31mor\n",
      "\u001b[1;31mconda install jupyter notebook -U'\n",
      "\u001b[1;31mHaga clic <a href='https://aka.ms/installJupyterForVSCode'>aquí</a> para obtener más información."
     ]
    }
   ],
   "source": [
    "mi_lista = ['Rojo','Azul','Amarillo','Naranja','Violeta','Verde']"
   ]
  },
  {
   "cell_type": "code",
   "execution_count": null,
   "metadata": {},
   "outputs": [
    {
     "ename": "",
     "evalue": "",
     "output_type": "error",
     "traceback": [
      "\u001b[1;31mNo se puede iniciar Jupyter. Error al intentar buscar Jupyter: La ejecución de celdas con 'Python 3.10.6 64-bit' requieren el paquete notebook.\n",
      "\u001b[1;31mEjecute el siguiente comando para instalar 'jupyter y notebook' en el entorno de Python. comando \n",
      "\u001b[1;31m: 'python -m pip install jupyter notebook -U\n",
      "\u001b[1;31mor\n",
      "\u001b[1;31mconda install jupyter notebook -U'\n",
      "\u001b[1;31mHaga clic <a href='https://aka.ms/installJupyterForVSCode'>aquí</a> para obtener más información."
     ]
    }
   ],
   "source": [
    "type(mi_lista)"
   ]
  },
  {
   "cell_type": "code",
   "execution_count": null,
   "metadata": {},
   "outputs": [
    {
     "ename": "",
     "evalue": "",
     "output_type": "error",
     "traceback": [
      "\u001b[1;31mNo se puede iniciar Jupyter. Error al intentar buscar Jupyter: La ejecución de celdas con 'Python 3.10.6 64-bit' requieren el paquete notebook.\n",
      "\u001b[1;31mEjecute el siguiente comando para instalar 'jupyter y notebook' en el entorno de Python. comando \n",
      "\u001b[1;31m: 'python -m pip install jupyter notebook -U\n",
      "\u001b[1;31mor\n",
      "\u001b[1;31mconda install jupyter notebook -U'\n",
      "\u001b[1;31mHaga clic <a href='https://aka.ms/installJupyterForVSCode'>aquí</a> para obtener más información."
     ]
    }
   ],
   "source": [
    "print(mi_lista)"
   ]
  },
  {
   "cell_type": "code",
   "execution_count": null,
   "metadata": {},
   "outputs": [
    {
     "ename": "",
     "evalue": "",
     "output_type": "error",
     "traceback": [
      "\u001b[1;31mNo se puede iniciar Jupyter. Error al intentar buscar Jupyter: La ejecución de celdas con 'Python 3.10.6 64-bit' requieren el paquete notebook.\n",
      "\u001b[1;31mEjecute el siguiente comando para instalar 'jupyter y notebook' en el entorno de Python. comando \n",
      "\u001b[1;31m: 'python -m pip install jupyter notebook -U\n",
      "\u001b[1;31mor\n",
      "\u001b[1;31mconda install jupyter notebook -U'\n",
      "\u001b[1;31mHaga clic <a href='https://aka.ms/installJupyterForVSCode'>aquí</a> para obtener más información."
     ]
    }
   ],
   "source": [
    "print(mi_lista[0:2])"
   ]
  },
  {
   "cell_type": "code",
   "execution_count": null,
   "metadata": {},
   "outputs": [
    {
     "ename": "",
     "evalue": "",
     "output_type": "error",
     "traceback": [
      "\u001b[1;31mNo se puede iniciar Jupyter. Error al intentar buscar Jupyter: La ejecución de celdas con 'Python 3.10.6 64-bit' requieren el paquete notebook.\n",
      "\u001b[1;31mEjecute el siguiente comando para instalar 'jupyter y notebook' en el entorno de Python. comando \n",
      "\u001b[1;31m: 'python -m pip install jupyter notebook -U\n",
      "\u001b[1;31mor\n",
      "\u001b[1;31mconda install jupyter notebook -U'\n",
      "\u001b[1;31mHaga clic <a href='https://aka.ms/installJupyterForVSCode'>aquí</a> para obtener más información."
     ]
    }
   ],
   "source": [
    "print(mi_lista[:2])"
   ]
  },
  {
   "cell_type": "code",
   "execution_count": null,
   "metadata": {},
   "outputs": [
    {
     "ename": "",
     "evalue": "",
     "output_type": "error",
     "traceback": [
      "\u001b[1;31mNo se puede iniciar Jupyter. Error al intentar buscar Jupyter: La ejecución de celdas con 'Python 3.10.6 64-bit' requieren el paquete notebook.\n",
      "\u001b[1;31mEjecute el siguiente comando para instalar 'jupyter y notebook' en el entorno de Python. comando \n",
      "\u001b[1;31m: 'python -m pip install jupyter notebook -U\n",
      "\u001b[1;31mor\n",
      "\u001b[1;31mconda install jupyter notebook -U'\n",
      "\u001b[1;31mHaga clic <a href='https://aka.ms/installJupyterForVSCode'>aquí</a> para obtener más información."
     ]
    }
   ],
   "source": [
    "print(mi_lista[1:])"
   ]
  },
  {
   "cell_type": "code",
   "execution_count": null,
   "metadata": {},
   "outputs": [
    {
     "ename": "",
     "evalue": "",
     "output_type": "error",
     "traceback": [
      "\u001b[1;31mNo se puede iniciar Jupyter. Error al intentar buscar Jupyter: La ejecución de celdas con 'Python 3.10.6 64-bit' requieren el paquete notebook.\n",
      "\u001b[1;31mEjecute el siguiente comando para instalar 'jupyter y notebook' en el entorno de Python. comando \n",
      "\u001b[1;31m: 'python -m pip install jupyter notebook -U\n",
      "\u001b[1;31mor\n",
      "\u001b[1;31mconda install jupyter notebook -U'\n",
      "\u001b[1;31mHaga clic <a href='https://aka.ms/installJupyterForVSCode'>aquí</a> para obtener más información."
     ]
    }
   ],
   "source": [
    "mi_lista.insert(3,'Negro')"
   ]
  },
  {
   "cell_type": "code",
   "execution_count": null,
   "metadata": {},
   "outputs": [
    {
     "ename": "",
     "evalue": "",
     "output_type": "error",
     "traceback": [
      "\u001b[1;31mNo se puede iniciar Jupyter. Error al intentar buscar Jupyter: La ejecución de celdas con 'Python 3.10.6 64-bit' requieren el paquete notebook.\n",
      "\u001b[1;31mEjecute el siguiente comando para instalar 'jupyter y notebook' en el entorno de Python. comando \n",
      "\u001b[1;31m: 'python -m pip install jupyter notebook -U\n",
      "\u001b[1;31mor\n",
      "\u001b[1;31mconda install jupyter notebook -U'\n",
      "\u001b[1;31mHaga clic <a href='https://aka.ms/installJupyterForVSCode'>aquí</a> para obtener más información."
     ]
    }
   ],
   "source": [
    "print(mi_lista.index('Azul'))"
   ]
  },
  {
   "cell_type": "code",
   "execution_count": null,
   "metadata": {},
   "outputs": [
    {
     "ename": "",
     "evalue": "",
     "output_type": "error",
     "traceback": [
      "\u001b[1;31mNo se puede iniciar Jupyter. Error al intentar buscar Jupyter: La ejecución de celdas con 'Python 3.10.6 64-bit' requieren el paquete notebook.\n",
      "\u001b[1;31mEjecute el siguiente comando para instalar 'jupyter y notebook' en el entorno de Python. comando \n",
      "\u001b[1;31m: 'python -m pip install jupyter notebook -U\n",
      "\u001b[1;31mor\n",
      "\u001b[1;31mconda install jupyter notebook -U'\n",
      "\u001b[1;31mHaga clic <a href='https://aka.ms/installJupyterForVSCode'>aquí</a> para obtener más información."
     ]
    }
   ],
   "source": [
    "mi_lista.insert(3,'Negro')"
   ]
  },
  {
   "cell_type": "code",
   "execution_count": null,
   "metadata": {},
   "outputs": [
    {
     "ename": "",
     "evalue": "",
     "output_type": "error",
     "traceback": [
      "\u001b[1;31mNo se puede iniciar Jupyter. Error al intentar buscar Jupyter: La ejecución de celdas con 'Python 3.10.6 64-bit' requieren el paquete notebook.\n",
      "\u001b[1;31mEjecute el siguiente comando para instalar 'jupyter y notebook' en el entorno de Python. comando \n",
      "\u001b[1;31m: 'python -m pip install jupyter notebook -U\n",
      "\u001b[1;31mor\n",
      "\u001b[1;31mconda install jupyter notebook -U'\n",
      "\u001b[1;31mHaga clic <a href='https://aka.ms/installJupyterForVSCode'>aquí</a> para obtener más información."
     ]
    }
   ],
   "source": [
    "mi_lista.extend(['Marrón','Gris'])"
   ]
  },
  {
   "cell_type": "code",
   "execution_count": null,
   "metadata": {},
   "outputs": [
    {
     "ename": "",
     "evalue": "",
     "output_type": "error",
     "traceback": [
      "\u001b[1;31mNo se puede iniciar Jupyter. Error al intentar buscar Jupyter: La ejecución de celdas con 'Python 3.10.6 64-bit' requieren el paquete notebook.\n",
      "\u001b[1;31mEjecute el siguiente comando para instalar 'jupyter y notebook' en el entorno de Python. comando \n",
      "\u001b[1;31m: 'python -m pip install jupyter notebook -U\n",
      "\u001b[1;31mor\n",
      "\u001b[1;31mconda install jupyter notebook -U'\n",
      "\u001b[1;31mHaga clic <a href='https://aka.ms/installJupyterForVSCode'>aquí</a> para obtener más información."
     ]
    }
   ],
   "source": [
    "print(['a','b','c'] * 3)"
   ]
  },
  {
   "cell_type": "code",
   "execution_count": null,
   "metadata": {},
   "outputs": [
    {
     "ename": "",
     "evalue": "",
     "output_type": "error",
     "traceback": [
      "\u001b[1;31mNo se puede iniciar Jupyter. Error al intentar buscar Jupyter: La ejecución de celdas con 'Python 3.10.6 64-bit' requieren el paquete notebook.\n",
      "\u001b[1;31mEjecute el siguiente comando para instalar 'jupyter y notebook' en el entorno de Python. comando \n",
      "\u001b[1;31m: 'python -m pip install jupyter notebook -U\n",
      "\u001b[1;31mor\n",
      "\u001b[1;31mconda install jupyter notebook -U'\n",
      "\u001b[1;31mHaga clic <a href='https://aka.ms/installJupyterForVSCode'>aquí</a> para obtener más información."
     ]
    }
   ],
   "source": [
    "print(mi_lista.index('Azul'))"
   ]
  },
  {
   "cell_type": "code",
   "execution_count": null,
   "metadata": {},
   "outputs": [
    {
     "ename": "",
     "evalue": "",
     "output_type": "error",
     "traceback": [
      "\u001b[1;31mNo se puede iniciar Jupyter. Error al intentar buscar Jupyter: La ejecución de celdas con 'Python 3.10.6 64-bit' requieren el paquete notebook.\n",
      "\u001b[1;31mEjecute el siguiente comando para instalar 'jupyter y notebook' en el entorno de Python. comando \n",
      "\u001b[1;31m: 'python -m pip install jupyter notebook -U\n",
      "\u001b[1;31mor\n",
      "\u001b[1;31mconda install jupyter notebook -U'\n",
      "\u001b[1;31mHaga clic <a href='https://aka.ms/installJupyterForVSCode'>aquí</a> para obtener más información."
     ]
    }
   ],
   "source": [
    "mi_lista.remove('Blanco')"
   ]
  },
  {
   "cell_type": "code",
   "execution_count": null,
   "metadata": {},
   "outputs": [
    {
     "ename": "",
     "evalue": "",
     "output_type": "error",
     "traceback": [
      "\u001b[1;31mNo se puede iniciar Jupyter. Error al intentar buscar Jupyter: La ejecución de celdas con 'Python 3.10.6 64-bit' requieren el paquete notebook.\n",
      "\u001b[1;31mEjecute el siguiente comando para instalar 'jupyter y notebook' en el entorno de Python. comando \n",
      "\u001b[1;31m: 'python -m pip install jupyter notebook -U\n",
      "\u001b[1;31mor\n",
      "\u001b[1;31mconda install jupyter notebook -U'\n",
      "\u001b[1;31mHaga clic <a href='https://aka.ms/installJupyterForVSCode'>aquí</a> para obtener más información."
     ]
    }
   ],
   "source": [
    "mi_lista.remove('Negro')"
   ]
  },
  {
   "cell_type": "code",
   "execution_count": null,
   "metadata": {},
   "outputs": [
    {
     "ename": "",
     "evalue": "",
     "output_type": "error",
     "traceback": [
      "\u001b[1;31mNo se puede iniciar Jupyter. Error al intentar buscar Jupyter: La ejecución de celdas con 'Python 3.10.6 64-bit' requieren el paquete notebook.\n",
      "\u001b[1;31mEjecute el siguiente comando para instalar 'jupyter y notebook' en el entorno de Python. comando \n",
      "\u001b[1;31m: 'python -m pip install jupyter notebook -U\n",
      "\u001b[1;31mor\n",
      "\u001b[1;31mconda install jupyter notebook -U'\n",
      "\u001b[1;31mHaga clic <a href='https://aka.ms/installJupyterForVSCode'>aquí</a> para obtener más información."
     ]
    }
   ],
   "source": [
    "ultimo = mi_lista.pop()"
   ]
  },
  {
   "cell_type": "code",
   "execution_count": null,
   "metadata": {},
   "outputs": [
    {
     "ename": "",
     "evalue": "",
     "output_type": "error",
     "traceback": [
      "\u001b[1;31mNo se puede iniciar Jupyter. Error al intentar buscar Jupyter: La ejecución de celdas con 'Python 3.10.6 64-bit' requieren el paquete notebook.\n",
      "\u001b[1;31mEjecute el siguiente comando para instalar 'jupyter y notebook' en el entorno de Python. comando \n",
      "\u001b[1;31m: 'python -m pip install jupyter notebook -U\n",
      "\u001b[1;31mor\n",
      "\u001b[1;31mconda install jupyter notebook -U'\n",
      "\u001b[1;31mHaga clic <a href='https://aka.ms/installJupyterForVSCode'>aquí</a> para obtener más información."
     ]
    }
   ],
   "source": [
    "ultimo = mi_lista.pop()\n",
    "print(ultimo)"
   ]
  },
  {
   "cell_type": "code",
   "execution_count": null,
   "metadata": {},
   "outputs": [
    {
     "ename": "",
     "evalue": "",
     "output_type": "error",
     "traceback": [
      "\u001b[1;31mNo se puede iniciar Jupyter. Error al intentar buscar Jupyter: La ejecución de celdas con 'Python 3.10.6 64-bit' requieren el paquete notebook.\n",
      "\u001b[1;31mEjecute el siguiente comando para instalar 'jupyter y notebook' en el entorno de Python. comando \n",
      "\u001b[1;31m: 'python -m pip install jupyter notebook -U\n",
      "\u001b[1;31mor\n",
      "\u001b[1;31mconda install jupyter notebook -U'\n",
      "\u001b[1;31mHaga clic <a href='https://aka.ms/installJupyterForVSCode'>aquí</a> para obtener más información."
     ]
    }
   ],
   "source": [
    "ultimo = mi_lista.pop()"
   ]
  },
  {
   "cell_type": "code",
   "execution_count": null,
   "metadata": {},
   "outputs": [
    {
     "ename": "",
     "evalue": "",
     "output_type": "error",
     "traceback": [
      "\u001b[1;31mNo se puede iniciar Jupyter. Error al intentar buscar Jupyter: La ejecución de celdas con 'Python 3.10.6 64-bit' requieren el paquete notebook.\n",
      "\u001b[1;31mEjecute el siguiente comando para instalar 'jupyter y notebook' en el entorno de Python. comando \n",
      "\u001b[1;31m: 'python -m pip install jupyter notebook -U\n",
      "\u001b[1;31mor\n",
      "\u001b[1;31mconda install jupyter notebook -U'\n",
      "\u001b[1;31mHaga clic <a href='https://aka.ms/installJupyterForVSCode'>aquí</a> para obtener más información."
     ]
    }
   ],
   "source": [
    "ultimo"
   ]
  },
  {
   "cell_type": "code",
   "execution_count": null,
   "metadata": {},
   "outputs": [
    {
     "ename": "",
     "evalue": "",
     "output_type": "error",
     "traceback": [
      "\u001b[1;31mNo se puede iniciar Jupyter. Error al intentar buscar Jupyter: La ejecución de celdas con 'Python 3.10.6 64-bit' requieren el paquete notebook.\n",
      "\u001b[1;31mEjecute el siguiente comando para instalar 'jupyter y notebook' en el entorno de Python. comando \n",
      "\u001b[1;31m: 'python -m pip install jupyter notebook -U\n",
      "\u001b[1;31mor\n",
      "\u001b[1;31mconda install jupyter notebook -U'\n",
      "\u001b[1;31mHaga clic <a href='https://aka.ms/installJupyterForVSCode'>aquí</a> para obtener más información."
     ]
    }
   ],
   "source": [
    "mi_tupla=tuple(mi_lista)"
   ]
  },
  {
   "cell_type": "code",
   "execution_count": null,
   "metadata": {},
   "outputs": [
    {
     "ename": "",
     "evalue": "",
     "output_type": "error",
     "traceback": [
      "\u001b[1;31mNo se puede iniciar Jupyter. Error al intentar buscar Jupyter: La ejecución de celdas con 'Python 3.10.6 64-bit' requieren el paquete notebook.\n",
      "\u001b[1;31mEjecute el siguiente comando para instalar 'jupyter y notebook' en el entorno de Python. comando \n",
      "\u001b[1;31m: 'python -m pip install jupyter notebook -U\n",
      "\u001b[1;31mor\n",
      "\u001b[1;31mconda install jupyter notebook -U'\n",
      "\u001b[1;31mHaga clic <a href='https://aka.ms/installJupyterForVSCode'>aquí</a> para obtener más información."
     ]
    }
   ],
   "source": [
    "print(mi_tupla[1])"
   ]
  },
  {
   "cell_type": "code",
   "execution_count": null,
   "metadata": {},
   "outputs": [
    {
     "ename": "",
     "evalue": "",
     "output_type": "error",
     "traceback": [
      "\u001b[1;31mNo se puede iniciar Jupyter. Error al intentar buscar Jupyter: La ejecución de celdas con 'Python 3.10.6 64-bit' requieren el paquete notebook.\n",
      "\u001b[1;31mEjecute el siguiente comando para instalar 'jupyter y notebook' en el entorno de Python. comando \n",
      "\u001b[1;31m: 'python -m pip install jupyter notebook -U\n",
      "\u001b[1;31mor\n",
      "\u001b[1;31mconda install jupyter notebook -U'\n",
      "\u001b[1;31mHaga clic <a href='https://aka.ms/installJupyterForVSCode'>aquí</a> para obtener más información."
     ]
    }
   ],
   "source": [
    "'Rojo' in mi_tupla"
   ]
  },
  {
   "cell_type": "code",
   "execution_count": null,
   "metadata": {},
   "outputs": [
    {
     "ename": "",
     "evalue": "",
     "output_type": "error",
     "traceback": [
      "\u001b[1;31mNo se puede iniciar Jupyter. Error al intentar buscar Jupyter: La ejecución de celdas con 'Python 3.10.6 64-bit' requieren el paquete notebook.\n",
      "\u001b[1;31mEjecute el siguiente comando para instalar 'jupyter y notebook' en el entorno de Python. comando \n",
      "\u001b[1;31m: 'python -m pip install jupyter notebook -U\n",
      "\u001b[1;31mor\n",
      "\u001b[1;31mconda install jupyter notebook -U'\n",
      "\u001b[1;31mHaga clic <a href='https://aka.ms/installJupyterForVSCode'>aquí</a> para obtener más información."
     ]
    }
   ],
   "source": [
    " mi_tupla.count('Rojo')"
   ]
  },
  {
   "cell_type": "code",
   "execution_count": null,
   "metadata": {},
   "outputs": [
    {
     "ename": "",
     "evalue": "",
     "output_type": "error",
     "traceback": [
      "\u001b[1;31mNo se puede iniciar Jupyter. Error al intentar buscar Jupyter: La ejecución de celdas con 'Python 3.10.6 64-bit' requieren el paquete notebook.\n",
      "\u001b[1;31mEjecute el siguiente comando para instalar 'jupyter y notebook' en el entorno de Python. comando \n",
      "\u001b[1;31m: 'python -m pip install jupyter notebook -U\n",
      "\u001b[1;31mor\n",
      "\u001b[1;31mconda install jupyter notebook -U'\n",
      "\u001b[1;31mHaga clic <a href='https://aka.ms/installJupyterForVSCode'>aquí</a> para obtener más información."
     ]
    }
   ],
   "source": [
    "print(mi_lista[:] * 3)"
   ]
  },
  {
   "cell_type": "code",
   "execution_count": null,
   "metadata": {},
   "outputs": [
    {
     "ename": "",
     "evalue": "",
     "output_type": "error",
     "traceback": [
      "\u001b[1;31mNo se puede iniciar Jupyter. Error al intentar buscar Jupyter: La ejecución de celdas con 'Python 3.10.6 64-bit' requieren el paquete notebook.\n",
      "\u001b[1;31mEjecute el siguiente comando para instalar 'jupyter y notebook' en el entorno de Python. comando \n",
      "\u001b[1;31m: 'python -m pip install jupyter notebook -U\n",
      "\u001b[1;31mor\n",
      "\u001b[1;31mconda install jupyter notebook -U'\n",
      "\u001b[1;31mHaga clic <a href='https://aka.ms/installJupyterForVSCode'>aquí</a> para obtener más información."
     ]
    }
   ],
   "source": [
    "mi_tupla.count('Rojo')"
   ]
  },
  {
   "cell_type": "code",
   "execution_count": null,
   "metadata": {},
   "outputs": [
    {
     "ename": "",
     "evalue": "",
     "output_type": "error",
     "traceback": [
      "\u001b[1;31mNo se puede iniciar Jupyter. Error al intentar buscar Jupyter: La ejecución de celdas con 'Python 3.10.6 64-bit' requieren el paquete notebook.\n",
      "\u001b[1;31mEjecute el siguiente comando para instalar 'jupyter y notebook' en el entorno de Python. comando \n",
      "\u001b[1;31m: 'python -m pip install jupyter notebook -U\n",
      "\u001b[1;31mor\n",
      "\u001b[1;31mconda install jupyter notebook -U'\n",
      "\u001b[1;31mHaga clic <a href='https://aka.ms/installJupyterForVSCode'>aquí</a> para obtener más información."
     ]
    }
   ],
   "source": [
    "mi_tupla='Gaspar', 5, 8, 1999"
   ]
  },
  {
   "cell_type": "code",
   "execution_count": null,
   "metadata": {},
   "outputs": [
    {
     "ename": "",
     "evalue": "",
     "output_type": "error",
     "traceback": [
      "\u001b[1;31mNo se puede iniciar Jupyter. Error al intentar buscar Jupyter: La ejecución de celdas con 'Python 3.10.6 64-bit' requieren el paquete notebook.\n",
      "\u001b[1;31mEjecute el siguiente comando para instalar 'jupyter y notebook' en el entorno de Python. comando \n",
      "\u001b[1;31m: 'python -m pip install jupyter notebook -U\n",
      "\u001b[1;31mor\n",
      "\u001b[1;31mconda install jupyter notebook -U'\n",
      "\u001b[1;31mHaga clic <a href='https://aka.ms/installJupyterForVSCode'>aquí</a> para obtener más información."
     ]
    }
   ],
   "source": [
    "nombre, dia, mes, año = mi_tupla\n",
    "print(\"Nombre: \", nombre, \" - Dia:\", dia, \" - Mes: \", mes, \" - Año: \", año)"
   ]
  },
  {
   "cell_type": "code",
   "execution_count": null,
   "metadata": {},
   "outputs": [
    {
     "ename": "",
     "evalue": "",
     "output_type": "error",
     "traceback": [
      "\u001b[1;31mNo se puede iniciar Jupyter. Error al intentar buscar Jupyter: La ejecución de celdas con 'Python 3.10.6 64-bit' requieren el paquete notebook.\n",
      "\u001b[1;31mEjecute el siguiente comando para instalar 'jupyter y notebook' en el entorno de Python. comando \n",
      "\u001b[1;31m: 'python -m pip install jupyter notebook -U\n",
      "\u001b[1;31mor\n",
      "\u001b[1;31mconda install jupyter notebook -U'\n",
      "\u001b[1;31mHaga clic <a href='https://aka.ms/installJupyterForVSCode'>aquí</a> para obtener más información."
     ]
    }
   ],
   "source": [
    "nombre = 'Darío'\n",
    "edad = 39\n",
    "print(nombre, edad)\n",
    "print(\"Mi nombre es\", nombre, \". Mi edad es\", edad, \"años\")\n",
    "print(\"Mi nombre es {}. Mi edad es {} años\". format(nombre, edad))"
   ]
  },
  {
   "cell_type": "code",
   "execution_count": null,
   "metadata": {},
   "outputs": [
    {
     "ename": "",
     "evalue": "",
     "output_type": "error",
     "traceback": [
      "\u001b[1;31mNo se puede iniciar Jupyter. Error al intentar buscar Jupyter: La ejecución de celdas con 'Python 3.10.6 64-bit' requieren el paquete notebook.\n",
      "\u001b[1;31mEjecute el siguiente comando para instalar 'jupyter y notebook' en el entorno de Python. comando \n",
      "\u001b[1;31m: 'python -m pip install jupyter notebook -U\n",
      "\u001b[1;31mor\n",
      "\u001b[1;31mconda install jupyter notebook -U'\n",
      "\u001b[1;31mHaga clic <a href='https://aka.ms/installJupyterForVSCode'>aquí</a> para obtener más información."
     ]
    }
   ],
   "source": [
    "mi_diccionario = {  'Colores Primarios': ['Rojo','Azul','Amarillo'], \n",
    "                    'Colores secundarios': ['Naranja','Violeta','Verde'], \n",
    "                    'Clave3': 10,\n",
    "                    'Clave4': False}"
   ]
  },
  {
   "cell_type": "code",
   "execution_count": null,
   "metadata": {},
   "outputs": [
    {
     "ename": "",
     "evalue": "",
     "output_type": "error",
     "traceback": [
      "\u001b[1;31mNo se puede iniciar Jupyter. Error al intentar buscar Jupyter: La ejecución de celdas con 'Python 3.10.6 64-bit' requieren el paquete notebook.\n",
      "\u001b[1;31mEjecute el siguiente comando para instalar 'jupyter y notebook' en el entorno de Python. comando \n",
      "\u001b[1;31m: 'python -m pip install jupyter notebook -U\n",
      "\u001b[1;31mor\n",
      "\u001b[1;31mconda install jupyter notebook -U'\n",
      "\u001b[1;31mHaga clic <a href='https://aka.ms/installJupyterForVSCode'>aquí</a> para obtener más información."
     ]
    }
   ],
   "source": [
    "print(mi_diccionario['Colores secundarios'])"
   ]
  },
  {
   "cell_type": "code",
   "execution_count": null,
   "metadata": {},
   "outputs": [
    {
     "ename": "",
     "evalue": "",
     "output_type": "error",
     "traceback": [
      "\u001b[1;31mNo se puede iniciar Jupyter. Error al intentar buscar Jupyter: La ejecución de celdas con 'Python 3.10.6 64-bit' requieren el paquete notebook.\n",
      "\u001b[1;31mEjecute el siguiente comando para instalar 'jupyter y notebook' en el entorno de Python. comando \n",
      "\u001b[1;31m: 'python -m pip install jupyter notebook -U\n",
      "\u001b[1;31mor\n",
      "\u001b[1;31mconda install jupyter notebook -U'\n",
      "\u001b[1;31mHaga clic <a href='https://aka.ms/installJupyterForVSCode'>aquí</a> para obtener más información."
     ]
    }
   ],
   "source": [
    "mi_diccionario={'Clave1':'Valor1', 'Clave2':{'numeros':[1,2,3,4,5]}}"
   ]
  },
  {
   "cell_type": "code",
   "execution_count": null,
   "metadata": {},
   "outputs": [
    {
     "ename": "",
     "evalue": "",
     "output_type": "error",
     "traceback": [
      "\u001b[1;31mNo se puede iniciar Jupyter. Error al intentar buscar Jupyter: La ejecución de celdas con 'Python 3.10.6 64-bit' requieren el paquete notebook.\n",
      "\u001b[1;31mEjecute el siguiente comando para instalar 'jupyter y notebook' en el entorno de Python. comando \n",
      "\u001b[1;31m: 'python -m pip install jupyter notebook -U\n",
      "\u001b[1;31mor\n",
      "\u001b[1;31mconda install jupyter notebook -U'\n",
      "\u001b[1;31mHaga clic <a href='https://aka.ms/installJupyterForVSCode'>aquí</a> para obtener más información."
     ]
    }
   ],
   "source": [
    "print(mi_diccionario.keys())"
   ]
  },
  {
   "cell_type": "code",
   "execution_count": null,
   "metadata": {},
   "outputs": [
    {
     "ename": "",
     "evalue": "",
     "output_type": "error",
     "traceback": [
      "\u001b[1;31mNo se puede iniciar Jupyter. Error al intentar buscar Jupyter: La ejecución de celdas con 'Python 3.10.6 64-bit' requieren el paquete notebook.\n",
      "\u001b[1;31mEjecute el siguiente comando para instalar 'jupyter y notebook' en el entorno de Python. comando \n",
      "\u001b[1;31m: 'python -m pip install jupyter notebook -U\n",
      "\u001b[1;31mor\n",
      "\u001b[1;31mconda install jupyter notebook -U'\n",
      "\u001b[1;31mHaga clic <a href='https://aka.ms/installJupyterForVSCode'>aquí</a> para obtener más información."
     ]
    }
   ],
   "source": [
    "print(mi_diccionario.values())"
   ]
  },
  {
   "cell_type": "code",
   "execution_count": null,
   "metadata": {},
   "outputs": [
    {
     "ename": "",
     "evalue": "",
     "output_type": "error",
     "traceback": [
      "\u001b[1;31mNo se puede iniciar Jupyter. Error al intentar buscar Jupyter: La ejecución de celdas con 'Python 3.10.6 64-bit' requieren el paquete notebook.\n",
      "\u001b[1;31mEjecute el siguiente comando para instalar 'jupyter y notebook' en el entorno de Python. comando \n",
      "\u001b[1;31m: 'python -m pip install jupyter notebook -U\n",
      "\u001b[1;31mor\n",
      "\u001b[1;31mconda install jupyter notebook -U'\n",
      "\u001b[1;31mHaga clic <a href='https://aka.ms/installJupyterForVSCode'>aquí</a> para obtener más información."
     ]
    }
   ],
   "source": [
    "len(mi_diccionario)"
   ]
  },
  {
   "cell_type": "code",
   "execution_count": null,
   "metadata": {},
   "outputs": [
    {
     "ename": "",
     "evalue": "",
     "output_type": "error",
     "traceback": [
      "\u001b[1;31mNo se puede iniciar Jupyter. Error al intentar buscar Jupyter: La ejecución de celdas con 'Python 3.10.6 64-bit' requieren el paquete notebook.\n",
      "\u001b[1;31mEjecute el siguiente comando para instalar 'jupyter y notebook' en el entorno de Python. comando \n",
      "\u001b[1;31m: 'python -m pip install jupyter notebook -U\n",
      "\u001b[1;31mor\n",
      "\u001b[1;31mconda install jupyter notebook -U'\n",
      "\u001b[1;31mHaga clic <a href='https://aka.ms/installJupyterForVSCode'>aquí</a> para obtener más información."
     ]
    }
   ],
   "source": [
    "edad = 60\n",
    "edad_compa = 50\n",
    "if (edad < edad_compa):\n",
    "    print(edad)\n",
    "    if (edad < 100):\n",
    "        print(edad + 100)\n",
    "    else:\n",
    "        print(edad - 100)\n",
    "else:\n",
    "    print(edad_compa)"
   ]
  },
  {
   "cell_type": "code",
   "execution_count": null,
   "metadata": {},
   "outputs": [
    {
     "ename": "",
     "evalue": "",
     "output_type": "error",
     "traceback": [
      "\u001b[1;31mNo se puede iniciar Jupyter. Error al intentar buscar Jupyter: La ejecución de celdas con 'Python 3.10.6 64-bit' requieren el paquete notebook.\n",
      "\u001b[1;31mEjecute el siguiente comando para instalar 'jupyter y notebook' en el entorno de Python. comando \n",
      "\u001b[1;31m: 'python -m pip install jupyter notebook -U\n",
      "\u001b[1;31mor\n",
      "\u001b[1;31mconda install jupyter notebook -U'\n",
      "\u001b[1;31mHaga clic <a href='https://aka.ms/installJupyterForVSCode'>aquí</a> para obtener más información."
     ]
    }
   ],
   "source": [
    "primeros_10 = [0,1,2,3,4,5,6,7,8,9]\n",
    "print(primeros_10)"
   ]
  },
  {
   "cell_type": "code",
   "execution_count": null,
   "metadata": {},
   "outputs": [
    {
     "ename": "",
     "evalue": "",
     "output_type": "error",
     "traceback": [
      "\u001b[1;31mNo se puede iniciar Jupyter. Error al intentar buscar Jupyter: La ejecución de celdas con 'Python 3.10.6 64-bit' requieren el paquete notebook.\n",
      "\u001b[1;31mEjecute el siguiente comando para instalar 'jupyter y notebook' en el entorno de Python. comando \n",
      "\u001b[1;31m: 'python -m pip install jupyter notebook -U\n",
      "\u001b[1;31mor\n",
      "\u001b[1;31mconda install jupyter notebook -U'\n",
      "\u001b[1;31mHaga clic <a href='https://aka.ms/installJupyterForVSCode'>aquí</a> para obtener más información."
     ]
    }
   ],
   "source": [
    "for n in primeros_10:\n",
    "    if (n%2 == 0):\n",
    "        print(n)\n",
    "        primeros_10[n]=0\n",
    "print(\"\\nva de nuevo....\\n\")"
   ]
  },
  {
   "cell_type": "code",
   "execution_count": null,
   "metadata": {},
   "outputs": [
    {
     "ename": "",
     "evalue": "",
     "output_type": "error",
     "traceback": [
      "\u001b[1;31mNo se puede iniciar Jupyter. Error al intentar buscar Jupyter: La ejecución de celdas con 'Python 3.10.6 64-bit' requieren el paquete notebook.\n",
      "\u001b[1;31mEjecute el siguiente comando para instalar 'jupyter y notebook' en el entorno de Python. comando \n",
      "\u001b[1;31m: 'python -m pip install jupyter notebook -U\n",
      "\u001b[1;31mor\n",
      "\u001b[1;31mconda install jupyter notebook -U'\n",
      "\u001b[1;31mHaga clic <a href='https://aka.ms/installJupyterForVSCode'>aquí</a> para obtener más información."
     ]
    }
   ],
   "source": [
    "print(primeros_10)"
   ]
  },
  {
   "cell_type": "code",
   "execution_count": null,
   "metadata": {},
   "outputs": [
    {
     "ename": "",
     "evalue": "",
     "output_type": "error",
     "traceback": [
      "\u001b[1;31mNo se puede iniciar Jupyter. Error al intentar buscar Jupyter: La ejecución de celdas con 'Python 3.10.6 64-bit' requieren el paquete notebook.\n",
      "\u001b[1;31mEjecute el siguiente comando para instalar 'jupyter y notebook' en el entorno de Python. comando \n",
      "\u001b[1;31m: 'python -m pip install jupyter notebook -U\n",
      "\u001b[1;31mor\n",
      "\u001b[1;31mconda install jupyter notebook -U'\n",
      "\u001b[1;31mHaga clic <a href='https://aka.ms/installJupyterForVSCode'>aquí</a> para obtener más información."
     ]
    }
   ],
   "source": [
    "for n in primeros_10:\n",
    "    print(primeros_10[n])\n",
    "print(\"\\nva de nuevo....\\n\")"
   ]
  },
  {
   "cell_type": "code",
   "execution_count": null,
   "metadata": {},
   "outputs": [
    {
     "ename": "",
     "evalue": "",
     "output_type": "error",
     "traceback": [
      "\u001b[1;31mNo se puede iniciar Jupyter. Error al intentar buscar Jupyter: La ejecución de celdas con 'Python 3.10.6 64-bit' requieren el paquete notebook.\n",
      "\u001b[1;31mEjecute el siguiente comando para instalar 'jupyter y notebook' en el entorno de Python. comando \n",
      "\u001b[1;31m: 'python -m pip install jupyter notebook -U\n",
      "\u001b[1;31mor\n",
      "\u001b[1;31mconda install jupyter notebook -U'\n",
      "\u001b[1;31mHaga clic <a href='https://aka.ms/installJupyterForVSCode'>aquí</a> para obtener más información."
     ]
    }
   ],
   "source": [
    "print(primeros_10[9])"
   ]
  },
  {
   "cell_type": "code",
   "execution_count": null,
   "metadata": {},
   "outputs": [
    {
     "ename": "",
     "evalue": "",
     "output_type": "error",
     "traceback": [
      "\u001b[1;31mNo se puede iniciar Jupyter. Error al intentar buscar Jupyter: La ejecución de celdas con 'Python 3.10.6 64-bit' requieren el paquete notebook.\n",
      "\u001b[1;31mEjecute el siguiente comando para instalar 'jupyter y notebook' en el entorno de Python. comando \n",
      "\u001b[1;31m: 'python -m pip install jupyter notebook -U\n",
      "\u001b[1;31mor\n",
      "\u001b[1;31mconda install jupyter notebook -U'\n",
      "\u001b[1;31mHaga clic <a href='https://aka.ms/installJupyterForVSCode'>aquí</a> para obtener más información."
     ]
    }
   ],
   "source": [
    "primeros_10 = ['a','b','c','d']"
   ]
  },
  {
   "cell_type": "code",
   "execution_count": null,
   "metadata": {},
   "outputs": [
    {
     "ename": "",
     "evalue": "",
     "output_type": "error",
     "traceback": [
      "\u001b[1;31mNo se puede iniciar Jupyter. Error al intentar buscar Jupyter: La ejecución de celdas con 'Python 3.10.6 64-bit' requieren el paquete notebook.\n",
      "\u001b[1;31mEjecute el siguiente comando para instalar 'jupyter y notebook' en el entorno de Python. comando \n",
      "\u001b[1;31m: 'python -m pip install jupyter notebook -U\n",
      "\u001b[1;31mor\n",
      "\u001b[1;31mconda install jupyter notebook -U'\n",
      "\u001b[1;31mHaga clic <a href='https://aka.ms/installJupyterForVSCode'>aquí</a> para obtener más información."
     ]
    }
   ],
   "source": [
    "primeros_10[4]"
   ]
  },
  {
   "cell_type": "code",
   "execution_count": null,
   "metadata": {},
   "outputs": [
    {
     "ename": "",
     "evalue": "",
     "output_type": "error",
     "traceback": [
      "\u001b[1;31mNo se puede iniciar Jupyter. Error al intentar buscar Jupyter: La ejecución de celdas con 'Python 3.10.6 64-bit' requieren el paquete notebook.\n",
      "\u001b[1;31mEjecute el siguiente comando para instalar 'jupyter y notebook' en el entorno de Python. comando \n",
      "\u001b[1;31m: 'python -m pip install jupyter notebook -U\n",
      "\u001b[1;31mor\n",
      "\u001b[1;31mconda install jupyter notebook -U'\n",
      "\u001b[1;31mHaga clic <a href='https://aka.ms/installJupyterForVSCode'>aquí</a> para obtener más información."
     ]
    }
   ],
   "source": [
    "n = 40\n",
    "sequence = [0,1]"
   ]
  },
  {
   "cell_type": "code",
   "execution_count": null,
   "metadata": {},
   "outputs": [
    {
     "ename": "",
     "evalue": "",
     "output_type": "error",
     "traceback": [
      "\u001b[1;31mNo se puede iniciar Jupyter. Error al intentar buscar Jupyter: La ejecución de celdas con 'Python 3.10.6 64-bit' requieren el paquete notebook.\n",
      "\u001b[1;31mEjecute el siguiente comando para instalar 'jupyter y notebook' en el entorno de Python. comando \n",
      "\u001b[1;31m: 'python -m pip install jupyter notebook -U\n",
      "\u001b[1;31mor\n",
      "\u001b[1;31mconda install jupyter notebook -U'\n",
      "\u001b[1;31mHaga clic <a href='https://aka.ms/installJupyterForVSCode'>aquí</a> para obtener más información."
     ]
    }
   ],
   "source": [
    "for i in range(2,n):\n",
    "    sequence.append(sequence[i-1]+sequence[i-2])\n",
    "print (sequence)"
   ]
  },
  {
   "cell_type": "code",
   "execution_count": null,
   "metadata": {},
   "outputs": [
    {
     "ename": "",
     "evalue": "",
     "output_type": "error",
     "traceback": [
      "\u001b[1;31mNo se puede iniciar Jupyter. Error al intentar buscar Jupyter: La ejecución de celdas con 'Python 3.10.6 64-bit' requieren el paquete notebook.\n",
      "\u001b[1;31mEjecute el siguiente comando para instalar 'jupyter y notebook' en el entorno de Python. comando \n",
      "\u001b[1;31m: 'python -m pip install jupyter notebook -U\n",
      "\u001b[1;31mor\n",
      "\u001b[1;31mconda install jupyter notebook -U'\n",
      "\u001b[1;31mHaga clic <a href='https://aka.ms/installJupyterForVSCode'>aquí</a> para obtener más información."
     ]
    }
   ],
   "source": [
    "mi_diccionario = {  'Colores Primarios': ['Rojo','Azul','Amarillo'], \n",
    "                        'Colores secundarios': ['Naranja','Violeta','Verde'], \n",
    "                        'Clave3': 10,\n",
    "                        'Clave4': False}"
   ]
  },
  {
   "cell_type": "code",
   "execution_count": null,
   "metadata": {},
   "outputs": [
    {
     "ename": "",
     "evalue": "",
     "output_type": "error",
     "traceback": [
      "\u001b[1;31mNo se puede iniciar Jupyter. Error al intentar buscar Jupyter: La ejecución de celdas con 'Python 3.10.6 64-bit' requieren el paquete notebook.\n",
      "\u001b[1;31mEjecute el siguiente comando para instalar 'jupyter y notebook' en el entorno de Python. comando \n",
      "\u001b[1;31m: 'python -m pip install jupyter notebook -U\n",
      "\u001b[1;31mor\n",
      "\u001b[1;31mconda install jupyter notebook -U'\n",
      "\u001b[1;31mHaga clic <a href='https://aka.ms/installJupyterForVSCode'>aquí</a> para obtener más información."
     ]
    }
   ],
   "source": [
    "print(mi_diccionario['Colores secundarios'])"
   ]
  },
  {
   "cell_type": "code",
   "execution_count": null,
   "metadata": {},
   "outputs": [
    {
     "ename": "",
     "evalue": "",
     "output_type": "error",
     "traceback": [
      "\u001b[1;31mNo se puede iniciar Jupyter. Error al intentar buscar Jupyter: La ejecución de celdas con 'Python 3.10.6 64-bit' requieren el paquete notebook.\n",
      "\u001b[1;31mEjecute el siguiente comando para instalar 'jupyter y notebook' en el entorno de Python. comando \n",
      "\u001b[1;31m: 'python -m pip install jupyter notebook -U\n",
      "\u001b[1;31mor\n",
      "\u001b[1;31mconda install jupyter notebook -U'\n",
      "\u001b[1;31mHaga clic <a href='https://aka.ms/installJupyterForVSCode'>aquí</a> para obtener más información."
     ]
    }
   ],
   "source": [
    "mi_diccionario['Clave3']=2"
   ]
  },
  {
   "cell_type": "code",
   "execution_count": null,
   "metadata": {},
   "outputs": [
    {
     "ename": "",
     "evalue": "",
     "output_type": "error",
     "traceback": [
      "\u001b[1;31mNo se puede iniciar Jupyter. Error al intentar buscar Jupyter: La ejecución de celdas con 'Python 3.10.6 64-bit' requieren el paquete notebook.\n",
      "\u001b[1;31mEjecute el siguiente comando para instalar 'jupyter y notebook' en el entorno de Python. comando \n",
      "\u001b[1;31m: 'python -m pip install jupyter notebook -U\n",
      "\u001b[1;31mor\n",
      "\u001b[1;31mconda install jupyter notebook -U'\n",
      "\u001b[1;31mHaga clic <a href='https://aka.ms/installJupyterForVSCode'>aquí</a> para obtener más información."
     ]
    }
   ],
   "source": [
    "mi_diccionario"
   ]
  },
  {
   "cell_type": "code",
   "execution_count": null,
   "metadata": {},
   "outputs": [
    {
     "ename": "",
     "evalue": "",
     "output_type": "error",
     "traceback": [
      "\u001b[1;31mNo se puede iniciar Jupyter. Error al intentar buscar Jupyter: La ejecución de celdas con 'Python 3.10.6 64-bit' requieren el paquete notebook.\n",
      "\u001b[1;31mEjecute el siguiente comando para instalar 'jupyter y notebook' en el entorno de Python. comando \n",
      "\u001b[1;31m: 'python -m pip install jupyter notebook -U\n",
      "\u001b[1;31mor\n",
      "\u001b[1;31mconda install jupyter notebook -U'\n",
      "\u001b[1;31mHaga clic <a href='https://aka.ms/installJupyterForVSCode'>aquí</a> para obtener más información."
     ]
    }
   ],
   "source": [
    "mi_diccionario['Clave5']='Otro ejemplo'"
   ]
  },
  {
   "cell_type": "code",
   "execution_count": null,
   "metadata": {},
   "outputs": [
    {
     "ename": "",
     "evalue": "",
     "output_type": "error",
     "traceback": [
      "\u001b[1;31mNo se puede iniciar Jupyter. Error al intentar buscar Jupyter: La ejecución de celdas con 'Python 3.10.6 64-bit' requieren el paquete notebook.\n",
      "\u001b[1;31mEjecute el siguiente comando para instalar 'jupyter y notebook' en el entorno de Python. comando \n",
      "\u001b[1;31m: 'python -m pip install jupyter notebook -U\n",
      "\u001b[1;31mor\n",
      "\u001b[1;31mconda install jupyter notebook -U'\n",
      "\u001b[1;31mHaga clic <a href='https://aka.ms/installJupyterForVSCode'>aquí</a> para obtener más información."
     ]
    }
   ],
   "source": [
    "mi_tupla=(\"Argentina\", \"Italia\", \"Inglaterra\")\n",
    "mi_diccionario={mi_tupla[0]:\"Buenos Aires\", mi_tupla[1]:\"Roma\", mi_tupla[2]:\"Londres\"}"
   ]
  },
  {
   "cell_type": "code",
   "execution_count": null,
   "metadata": {},
   "outputs": [
    {
     "ename": "",
     "evalue": "",
     "output_type": "error",
     "traceback": [
      "\u001b[1;31mNo se puede iniciar Jupyter. Error al intentar buscar Jupyter: La ejecución de celdas con 'Python 3.10.6 64-bit' requieren el paquete notebook.\n",
      "\u001b[1;31mEjecute el siguiente comando para instalar 'jupyter y notebook' en el entorno de Python. comando \n",
      "\u001b[1;31m: 'python -m pip install jupyter notebook -U\n",
      "\u001b[1;31mor\n",
      "\u001b[1;31mconda install jupyter notebook -U'\n",
      "\u001b[1;31mHaga clic <a href='https://aka.ms/installJupyterForVSCode'>aquí</a> para obtener más información."
     ]
    }
   ],
   "source": [
    "mi_diccionario={'Clave1':'Valor1', 'Clave2':(1,2,3,4,5)}"
   ]
  },
  {
   "cell_type": "code",
   "execution_count": null,
   "metadata": {},
   "outputs": [
    {
     "ename": "",
     "evalue": "",
     "output_type": "error",
     "traceback": [
      "\u001b[1;31mNo se puede iniciar Jupyter. Error al intentar buscar Jupyter: La ejecución de celdas con 'Python 3.10.6 64-bit' requieren el paquete notebook.\n",
      "\u001b[1;31mEjecute el siguiente comando para instalar 'jupyter y notebook' en el entorno de Python. comando \n",
      "\u001b[1;31m: 'python -m pip install jupyter notebook -U\n",
      "\u001b[1;31mor\n",
      "\u001b[1;31mconda install jupyter notebook -U'\n",
      "\u001b[1;31mHaga clic <a href='https://aka.ms/installJupyterForVSCode'>aquí</a> para obtener más información."
     ]
    }
   ],
   "source": [
    "type(mi_diccionario['Clave2'])"
   ]
  },
  {
   "cell_type": "code",
   "execution_count": null,
   "metadata": {},
   "outputs": [
    {
     "ename": "",
     "evalue": "",
     "output_type": "error",
     "traceback": [
      "\u001b[1;31mNo se puede iniciar Jupyter. Error al intentar buscar Jupyter: La ejecución de celdas con 'Python 3.10.6 64-bit' requieren el paquete notebook.\n",
      "\u001b[1;31mEjecute el siguiente comando para instalar 'jupyter y notebook' en el entorno de Python. comando \n",
      "\u001b[1;31m: 'python -m pip install jupyter notebook -U\n",
      "\u001b[1;31mor\n",
      "\u001b[1;31mconda install jupyter notebook -U'\n",
      "\u001b[1;31mHaga clic <a href='https://aka.ms/installJupyterForVSCode'>aquí</a> para obtener más información."
     ]
    }
   ],
   "source": [
    "mi_diccionario={'Clave1':'Valor1', 'Clave2':{'numeros':[1,2,3,4,5]}}"
   ]
  },
  {
   "cell_type": "code",
   "execution_count": null,
   "metadata": {},
   "outputs": [
    {
     "ename": "",
     "evalue": "",
     "output_type": "error",
     "traceback": [
      "\u001b[1;31mNo se puede iniciar Jupyter. Error al intentar buscar Jupyter: La ejecución de celdas con 'Python 3.10.6 64-bit' requieren el paquete notebook.\n",
      "\u001b[1;31mEjecute el siguiente comando para instalar 'jupyter y notebook' en el entorno de Python. comando \n",
      "\u001b[1;31m: 'python -m pip install jupyter notebook -U\n",
      "\u001b[1;31mor\n",
      "\u001b[1;31mconda install jupyter notebook -U'\n",
      "\u001b[1;31mHaga clic <a href='https://aka.ms/installJupyterForVSCode'>aquí</a> para obtener más información."
     ]
    }
   ],
   "source": [
    "type(mi_diccionario['Clave2'])"
   ]
  },
  {
   "cell_type": "code",
   "execution_count": null,
   "metadata": {},
   "outputs": [
    {
     "ename": "",
     "evalue": "",
     "output_type": "error",
     "traceback": [
      "\u001b[1;31mNo se puede iniciar Jupyter. Error al intentar buscar Jupyter: La ejecución de celdas con 'Python 3.10.6 64-bit' requieren el paquete notebook.\n",
      "\u001b[1;31mEjecute el siguiente comando para instalar 'jupyter y notebook' en el entorno de Python. comando \n",
      "\u001b[1;31m: 'python -m pip install jupyter notebook -U\n",
      "\u001b[1;31mor\n",
      "\u001b[1;31mconda install jupyter notebook -U'\n",
      "\u001b[1;31mHaga clic <a href='https://aka.ms/installJupyterForVSCode'>aquí</a> para obtener más información."
     ]
    }
   ],
   "source": [
    "mi_diccionario={'Clave1':'Valor1', 'Clave2':[1,2,3,4,5]}"
   ]
  },
  {
   "cell_type": "code",
   "execution_count": null,
   "metadata": {},
   "outputs": [
    {
     "ename": "",
     "evalue": "",
     "output_type": "error",
     "traceback": [
      "\u001b[1;31mNo se puede iniciar Jupyter. Error al intentar buscar Jupyter: La ejecución de celdas con 'Python 3.10.6 64-bit' requieren el paquete notebook.\n",
      "\u001b[1;31mEjecute el siguiente comando para instalar 'jupyter y notebook' en el entorno de Python. comando \n",
      "\u001b[1;31m: 'python -m pip install jupyter notebook -U\n",
      "\u001b[1;31mor\n",
      "\u001b[1;31mconda install jupyter notebook -U'\n",
      "\u001b[1;31mHaga clic <a href='https://aka.ms/installJupyterForVSCode'>aquí</a> para obtener más información."
     ]
    }
   ],
   "source": [
    "type(mi_diccionario['Clave2'])"
   ]
  },
  {
   "cell_type": "code",
   "execution_count": null,
   "metadata": {},
   "outputs": [
    {
     "ename": "",
     "evalue": "",
     "output_type": "error",
     "traceback": [
      "\u001b[1;31mNo se puede iniciar Jupyter. Error al intentar buscar Jupyter: La ejecución de celdas con 'Python 3.10.6 64-bit' requieren el paquete notebook.\n",
      "\u001b[1;31mEjecute el siguiente comando para instalar 'jupyter y notebook' en el entorno de Python. comando \n",
      "\u001b[1;31m: 'python -m pip install jupyter notebook -U\n",
      "\u001b[1;31mor\n",
      "\u001b[1;31mconda install jupyter notebook -U'\n",
      "\u001b[1;31mHaga clic <a href='https://aka.ms/installJupyterForVSCode'>aquí</a> para obtener más información."
     ]
    }
   ],
   "source": [
    "print(mi_diccionario.keys())"
   ]
  },
  {
   "cell_type": "code",
   "execution_count": null,
   "metadata": {},
   "outputs": [
    {
     "ename": "",
     "evalue": "",
     "output_type": "error",
     "traceback": [
      "\u001b[1;31mNo se puede iniciar Jupyter. Error al intentar buscar Jupyter: La ejecución de celdas con 'Python 3.10.6 64-bit' requieren el paquete notebook.\n",
      "\u001b[1;31mEjecute el siguiente comando para instalar 'jupyter y notebook' en el entorno de Python. comando \n",
      "\u001b[1;31m: 'python -m pip install jupyter notebook -U\n",
      "\u001b[1;31mor\n",
      "\u001b[1;31mconda install jupyter notebook -U'\n",
      "\u001b[1;31mHaga clic <a href='https://aka.ms/installJupyterForVSCode'>aquí</a> para obtener más información."
     ]
    }
   ],
   "source": [
    "print(mi_diccionario.values())"
   ]
  },
  {
   "cell_type": "code",
   "execution_count": null,
   "metadata": {},
   "outputs": [
    {
     "ename": "",
     "evalue": "",
     "output_type": "error",
     "traceback": [
      "\u001b[1;31mNo se puede iniciar Jupyter. Error al intentar buscar Jupyter: La ejecución de celdas con 'Python 3.10.6 64-bit' requieren el paquete notebook.\n",
      "\u001b[1;31mEjecute el siguiente comando para instalar 'jupyter y notebook' en el entorno de Python. comando \n",
      "\u001b[1;31m: 'python -m pip install jupyter notebook -U\n",
      "\u001b[1;31mor\n",
      "\u001b[1;31mconda install jupyter notebook -U'\n",
      "\u001b[1;31mHaga clic <a href='https://aka.ms/installJupyterForVSCode'>aquí</a> para obtener más información."
     ]
    }
   ],
   "source": [
    "len(mi_tupla)"
   ]
  },
  {
   "cell_type": "code",
   "execution_count": null,
   "metadata": {},
   "outputs": [
    {
     "ename": "",
     "evalue": "",
     "output_type": "error",
     "traceback": [
      "\u001b[1;31mNo se puede iniciar Jupyter. Error al intentar buscar Jupyter: La ejecución de celdas con 'Python 3.10.6 64-bit' requieren el paquete notebook.\n",
      "\u001b[1;31mEjecute el siguiente comando para instalar 'jupyter y notebook' en el entorno de Python. comando \n",
      "\u001b[1;31m: 'python -m pip install jupyter notebook -U\n",
      "\u001b[1;31mor\n",
      "\u001b[1;31mconda install jupyter notebook -U'\n",
      "\u001b[1;31mHaga clic <a href='https://aka.ms/installJupyterForVSCode'>aquí</a> para obtener más información."
     ]
    }
   ],
   "source": [
    "def imprimir_valor_variable(var):\n",
    "    print('El valor de la variable es' + str(var))"
   ]
  },
  {
   "cell_type": "code",
   "execution_count": null,
   "metadata": {},
   "outputs": [
    {
     "ename": "",
     "evalue": "",
     "output_type": "error",
     "traceback": [
      "\u001b[1;31mNo se puede iniciar Jupyter. Error al intentar buscar Jupyter: La ejecución de celdas con 'Python 3.10.6 64-bit' requieren el paquete notebook.\n",
      "\u001b[1;31mEjecute el siguiente comando para instalar 'jupyter y notebook' en el entorno de Python. comando \n",
      "\u001b[1;31m: 'python -m pip install jupyter notebook -U\n",
      "\u001b[1;31mor\n",
      "\u001b[1;31mconda install jupyter notebook -U'\n",
      "\u001b[1;31mHaga clic <a href='https://aka.ms/installJupyterForVSCode'>aquí</a> para obtener más información."
     ]
    }
   ],
   "source": [
    "imprimir_valor_variable(mi_lista)"
   ]
  },
  {
   "cell_type": "code",
   "execution_count": null,
   "metadata": {},
   "outputs": [
    {
     "ename": "",
     "evalue": "",
     "output_type": "error",
     "traceback": [
      "\u001b[1;31mNo se puede iniciar Jupyter. Error al intentar buscar Jupyter: La ejecución de celdas con 'Python 3.10.6 64-bit' requieren el paquete notebook.\n",
      "\u001b[1;31mEjecute el siguiente comando para instalar 'jupyter y notebook' en el entorno de Python. comando \n",
      "\u001b[1;31m: 'python -m pip install jupyter notebook -U\n",
      "\u001b[1;31mor\n",
      "\u001b[1;31mconda install jupyter notebook -U'\n",
      "\u001b[1;31mHaga clic <a href='https://aka.ms/installJupyterForVSCode'>aquí</a> para obtener más información."
     ]
    }
   ],
   "source": [
    "def ordenar_dos_numeros(num1, num2):\n",
    "        if (num1 > num2):\n",
    "            return num2, num1\n",
    "        else:\n",
    "            return num1, num2"
   ]
  },
  {
   "cell_type": "code",
   "execution_count": null,
   "metadata": {},
   "outputs": [
    {
     "ename": "",
     "evalue": "",
     "output_type": "error",
     "traceback": [
      "\u001b[1;31mNo se puede iniciar Jupyter. Error al intentar buscar Jupyter: La ejecución de celdas con 'Python 3.10.6 64-bit' requieren el paquete notebook.\n",
      "\u001b[1;31mEjecute el siguiente comando para instalar 'jupyter y notebook' en el entorno de Python. comando \n",
      "\u001b[1;31m: 'python -m pip install jupyter notebook -U\n",
      "\u001b[1;31mor\n",
      "\u001b[1;31mconda install jupyter notebook -U'\n",
      "\u001b[1;31mHaga clic <a href='https://aka.ms/installJupyterForVSCode'>aquí</a> para obtener más información."
     ]
    }
   ],
   "source": [
    "ordenar_dos_numeros(8,1)"
   ]
  },
  {
   "cell_type": "code",
   "execution_count": null,
   "metadata": {},
   "outputs": [
    {
     "ename": "",
     "evalue": "",
     "output_type": "error",
     "traceback": [
      "\u001b[1;31mNo se puede iniciar Jupyter. Error al intentar buscar Jupyter: La ejecución de celdas con 'Python 3.10.6 64-bit' requieren el paquete notebook.\n",
      "\u001b[1;31mEjecute el siguiente comando para instalar 'jupyter y notebook' en el entorno de Python. comando \n",
      "\u001b[1;31m: 'python -m pip install jupyter notebook -U\n",
      "\u001b[1;31mor\n",
      "\u001b[1;31mconda install jupyter notebook -U'\n",
      "\u001b[1;31mHaga clic <a href='https://aka.ms/installJupyterForVSCode'>aquí</a> para obtener más información."
     ]
    }
   ],
   "source": [
    "def factorial(numero):\n",
    "    '''\n",
    "    Devuelve el factorial\n",
    "    '''\n",
    "    if (numero > 1):\n",
    "        numero = numero * factorial(numero - 1)\n",
    "    return numero"
   ]
  },
  {
   "cell_type": "code",
   "execution_count": null,
   "metadata": {},
   "outputs": [
    {
     "ename": "",
     "evalue": "",
     "output_type": "error",
     "traceback": [
      "\u001b[1;31mNo se puede iniciar Jupyter. Error al intentar buscar Jupyter: La ejecución de celdas con 'Python 3.10.6 64-bit' requieren el paquete notebook.\n",
      "\u001b[1;31mEjecute el siguiente comando para instalar 'jupyter y notebook' en el entorno de Python. comando \n",
      "\u001b[1;31m: 'python -m pip install jupyter notebook -U\n",
      "\u001b[1;31mor\n",
      "\u001b[1;31mconda install jupyter notebook -U'\n",
      "\u001b[1;31mHaga clic <a href='https://aka.ms/installJupyterForVSCode'>aquí</a> para obtener más información."
     ]
    }
   ],
   "source": [
    "factorial(3)"
   ]
  },
  {
   "cell_type": "code",
   "execution_count": null,
   "metadata": {},
   "outputs": [
    {
     "ename": "",
     "evalue": "",
     "output_type": "error",
     "traceback": [
      "\u001b[1;31mNo se puede iniciar Jupyter. Error al intentar buscar Jupyter: La ejecución de celdas con 'Python 3.10.6 64-bit' requieren el paquete notebook.\n",
      "\u001b[1;31mEjecute el siguiente comando para instalar 'jupyter y notebook' en el entorno de Python. comando \n",
      "\u001b[1;31m: 'python -m pip install jupyter notebook -U\n",
      "\u001b[1;31mor\n",
      "\u001b[1;31mconda install jupyter notebook -U'\n",
      "\u001b[1;31mHaga clic <a href='https://aka.ms/installJupyterForVSCode'>aquí</a> para obtener más información."
     ]
    }
   ],
   "source": [
    "help(factorial)"
   ]
  },
  {
   "cell_type": "code",
   "execution_count": null,
   "metadata": {},
   "outputs": [
    {
     "ename": "",
     "evalue": "",
     "output_type": "error",
     "traceback": [
      "\u001b[1;31mNo se puede iniciar Jupyter. Error al intentar buscar Jupyter: La ejecución de celdas con 'Python 3.10.6 64-bit' requieren el paquete notebook.\n",
      "\u001b[1;31mEjecute el siguiente comando para instalar 'jupyter y notebook' en el entorno de Python. comando \n",
      "\u001b[1;31m: 'python -m pip install jupyter notebook -U\n",
      "\u001b[1;31mor\n",
      "\u001b[1;31mconda install jupyter notebook -U'\n",
      "\u001b[1;31mHaga clic <a href='https://aka.ms/installJupyterForVSCode'>aquí</a> para obtener más información."
     ]
    }
   ],
   "source": [
    "def dividir(dividendo, divisor = 1):\n",
    "    if (divisor == 0):\n",
    "        return 'No se puede dividir por cero'\n",
    "    else:\n",
    "        return dividendo / divisor"
   ]
  },
  {
   "cell_type": "code",
   "execution_count": null,
   "metadata": {},
   "outputs": [
    {
     "ename": "",
     "evalue": "",
     "output_type": "error",
     "traceback": [
      "\u001b[1;31mNo se puede iniciar Jupyter. Error al intentar buscar Jupyter: La ejecución de celdas con 'Python 3.10.6 64-bit' requieren el paquete notebook.\n",
      "\u001b[1;31mEjecute el siguiente comando para instalar 'jupyter y notebook' en el entorno de Python. comando \n",
      "\u001b[1;31m: 'python -m pip install jupyter notebook -U\n",
      "\u001b[1;31mor\n",
      "\u001b[1;31mconda install jupyter notebook -U'\n",
      "\u001b[1;31mHaga clic <a href='https://aka.ms/installJupyterForVSCode'>aquí</a> para obtener más información."
     ]
    }
   ],
   "source": [
    "print(dividir(10))"
   ]
  },
  {
   "cell_type": "code",
   "execution_count": null,
   "metadata": {},
   "outputs": [
    {
     "ename": "",
     "evalue": "",
     "output_type": "error",
     "traceback": [
      "\u001b[1;31mNo se puede iniciar Jupyter. Error al intentar buscar Jupyter: La ejecución de celdas con 'Python 3.10.6 64-bit' requieren el paquete notebook.\n",
      "\u001b[1;31mEjecute el siguiente comando para instalar 'jupyter y notebook' en el entorno de Python. comando \n",
      "\u001b[1;31m: 'python -m pip install jupyter notebook -U\n",
      "\u001b[1;31mor\n",
      "\u001b[1;31mconda install jupyter notebook -U'\n",
      "\u001b[1;31mHaga clic <a href='https://aka.ms/installJupyterForVSCode'>aquí</a> para obtener más información."
     ]
    }
   ],
   "source": [
    "print(divisor)"
   ]
  },
  {
   "cell_type": "code",
   "execution_count": null,
   "metadata": {},
   "outputs": [
    {
     "ename": "",
     "evalue": "",
     "output_type": "error",
     "traceback": [
      "\u001b[1;31mNo se puede iniciar Jupyter. Error al intentar buscar Jupyter: La ejecución de celdas con 'Python 3.10.6 64-bit' requieren el paquete notebook.\n",
      "\u001b[1;31mEjecute el siguiente comando para instalar 'jupyter y notebook' en el entorno de Python. comando \n",
      "\u001b[1;31m: 'python -m pip install jupyter notebook -U\n",
      "\u001b[1;31mor\n",
      "\u001b[1;31mconda install jupyter notebook -U'\n",
      "\u001b[1;31mHaga clic <a href='https://aka.ms/installJupyterForVSCode'>aquí</a> para obtener más información."
     ]
    }
   ],
   "source": [
    "divisor = 5\n",
    "def dividir(dividendo):\n",
    "    if (divisor == 0):\n",
    "        return 'No se puede dividir por cero'\n",
    "    else:\n",
    "        return dividendo / divisor"
   ]
  },
  {
   "cell_type": "code",
   "execution_count": null,
   "metadata": {},
   "outputs": [
    {
     "ename": "",
     "evalue": "",
     "output_type": "error",
     "traceback": [
      "\u001b[1;31mNo se puede iniciar Jupyter. Error al intentar buscar Jupyter: La ejecución de celdas con 'Python 3.10.6 64-bit' requieren el paquete notebook.\n",
      "\u001b[1;31mEjecute el siguiente comando para instalar 'jupyter y notebook' en el entorno de Python. comando \n",
      "\u001b[1;31m: 'python -m pip install jupyter notebook -U\n",
      "\u001b[1;31mor\n",
      "\u001b[1;31mconda install jupyter notebook -U'\n",
      "\u001b[1;31mHaga clic <a href='https://aka.ms/installJupyterForVSCode'>aquí</a> para obtener más información."
     ]
    }
   ],
   "source": [
    "print(dividir(10))"
   ]
  },
  {
   "cell_type": "code",
   "execution_count": null,
   "metadata": {},
   "outputs": [
    {
     "ename": "",
     "evalue": "",
     "output_type": "error",
     "traceback": [
      "\u001b[1;31mNo se puede iniciar Jupyter. Error al intentar buscar Jupyter: La ejecución de celdas con 'Python 3.10.6 64-bit' requieren el paquete notebook.\n",
      "\u001b[1;31mEjecute el siguiente comando para instalar 'jupyter y notebook' en el entorno de Python. comando \n",
      "\u001b[1;31m: 'python -m pip install jupyter notebook -U\n",
      "\u001b[1;31mor\n",
      "\u001b[1;31mconda install jupyter notebook -U'\n",
      "\u001b[1;31mHaga clic <a href='https://aka.ms/installJupyterForVSCode'>aquí</a> para obtener más información."
     ]
    }
   ],
   "source": [
    "print(divisor)"
   ]
  },
  {
   "cell_type": "code",
   "execution_count": null,
   "metadata": {},
   "outputs": [
    {
     "ename": "",
     "evalue": "",
     "output_type": "error",
     "traceback": [
      "\u001b[1;31mNo se puede iniciar Jupyter. Error al intentar buscar Jupyter: La ejecución de celdas con 'Python 3.10.6 64-bit' requieren el paquete notebook.\n",
      "\u001b[1;31mEjecute el siguiente comando para instalar 'jupyter y notebook' en el entorno de Python. comando \n",
      "\u001b[1;31m: 'python -m pip install jupyter notebook -U\n",
      "\u001b[1;31mor\n",
      "\u001b[1;31mconda install jupyter notebook -U'\n",
      "\u001b[1;31mHaga clic <a href='https://aka.ms/installJupyterForVSCode'>aquí</a> para obtener más información."
     ]
    }
   ],
   "source": [
    "divisor = 5\n",
    "def dividir(dividendo, divisor = 1):\n",
    "    if (divisor == 0):\n",
    "        return 'No se puede dividir por cero'\n",
    "    else:\n",
    "        return dividendo / divisor"
   ]
  },
  {
   "cell_type": "code",
   "execution_count": null,
   "metadata": {},
   "outputs": [
    {
     "ename": "",
     "evalue": "",
     "output_type": "error",
     "traceback": [
      "\u001b[1;31mNo se puede iniciar Jupyter. Error al intentar buscar Jupyter: La ejecución de celdas con 'Python 3.10.6 64-bit' requieren el paquete notebook.\n",
      "\u001b[1;31mEjecute el siguiente comando para instalar 'jupyter y notebook' en el entorno de Python. comando \n",
      "\u001b[1;31m: 'python -m pip install jupyter notebook -U\n",
      "\u001b[1;31mor\n",
      "\u001b[1;31mconda install jupyter notebook -U'\n",
      "\u001b[1;31mHaga clic <a href='https://aka.ms/installJupyterForVSCode'>aquí</a> para obtener más información."
     ]
    }
   ],
   "source": [
    "print(dividir(10))"
   ]
  },
  {
   "cell_type": "code",
   "execution_count": null,
   "metadata": {},
   "outputs": [
    {
     "ename": "",
     "evalue": "",
     "output_type": "error",
     "traceback": [
      "\u001b[1;31mNo se puede iniciar Jupyter. Error al intentar buscar Jupyter: La ejecución de celdas con 'Python 3.10.6 64-bit' requieren el paquete notebook.\n",
      "\u001b[1;31mEjecute el siguiente comando para instalar 'jupyter y notebook' en el entorno de Python. comando \n",
      "\u001b[1;31m: 'python -m pip install jupyter notebook -U\n",
      "\u001b[1;31mor\n",
      "\u001b[1;31mconda install jupyter notebook -U'\n",
      "\u001b[1;31mHaga clic <a href='https://aka.ms/installJupyterForVSCode'>aquí</a> para obtener más información."
     ]
    }
   ],
   "source": [
    "print(divisor)"
   ]
  },
  {
   "cell_type": "code",
   "execution_count": null,
   "metadata": {},
   "outputs": [
    {
     "ename": "",
     "evalue": "",
     "output_type": "error",
     "traceback": [
      "\u001b[1;31mNo se puede iniciar Jupyter. Error al intentar buscar Jupyter: La ejecución de celdas con 'Python 3.10.6 64-bit' requieren el paquete notebook.\n",
      "\u001b[1;31mEjecute el siguiente comando para instalar 'jupyter y notebook' en el entorno de Python. comando \n",
      "\u001b[1;31m: 'python -m pip install jupyter notebook -U\n",
      "\u001b[1;31mor\n",
      "\u001b[1;31mconda install jupyter notebook -U'\n",
      "\u001b[1;31mHaga clic <a href='https://aka.ms/installJupyterForVSCode'>aquí</a> para obtener más información."
     ]
    }
   ],
   "source": [
    "lambda_producto = lambda x, y: x * y\n",
    "lambda_producto(3, 4)"
   ]
  },
  {
   "cell_type": "code",
   "execution_count": null,
   "metadata": {},
   "outputs": [
    {
     "ename": "",
     "evalue": "",
     "output_type": "error",
     "traceback": [
      "\u001b[1;31mNo se puede iniciar Jupyter. Error al intentar buscar Jupyter: La ejecución de celdas con 'Python 3.10.6 64-bit' requieren el paquete notebook.\n",
      "\u001b[1;31mEjecute el siguiente comando para instalar 'jupyter y notebook' en el entorno de Python. comando \n",
      "\u001b[1;31m: 'python -m pip install jupyter notebook -U\n",
      "\u001b[1;31mor\n",
      "\u001b[1;31mconda install jupyter notebook -U'\n",
      "\u001b[1;31mHaga clic <a href='https://aka.ms/installJupyterForVSCode'>aquí</a> para obtener más información."
     ]
    }
   ],
   "source": [
    "class Animal:\n",
    "    '''\n",
    "    En esta clase se crean los animales\n",
    "    '''\n",
    "    def __init__(self, especie, edad, color):\n",
    "        self.especie = especie\n",
    "        self.edad = edad\n",
    "        self.color = color\n",
    "    def mePresento(self):\n",
    "        print('Hola, soy ', self.especie, ', de color', self.color, ' y tengo ', self.edad, ' años')\n",
    "    def cumplirAños(self):\n",
    "        self.edad = self.edad + 1"
   ]
  },
  {
   "cell_type": "code",
   "execution_count": null,
   "metadata": {},
   "outputs": [
    {
     "ename": "",
     "evalue": "",
     "output_type": "error",
     "traceback": [
      "\u001b[1;31mNo se puede iniciar Jupyter. Error al intentar buscar Jupyter: La ejecución de celdas con 'Python 3.10.6 64-bit' requieren el paquete notebook.\n",
      "\u001b[1;31mEjecute el siguiente comando para instalar 'jupyter y notebook' en el entorno de Python. comando \n",
      "\u001b[1;31m: 'python -m pip install jupyter notebook -U\n",
      "\u001b[1;31mor\n",
      "\u001b[1;31mconda install jupyter notebook -U'\n",
      "\u001b[1;31mHaga clic <a href='https://aka.ms/installJupyterForVSCode'>aquí</a> para obtener más información."
     ]
    }
   ],
   "source": [
    "a1 = Animal('Ratón', 2, 'Marrón')\n",
    "print(a1.especie)\n",
    "print(a1.edad)\n",
    "\n",
    "a2 = Animal('Liebre', 3, 'Gris')\n",
    "print(a2.especie)\n",
    "print(a2.edad)"
   ]
  },
  {
   "cell_type": "code",
   "execution_count": null,
   "metadata": {},
   "outputs": [
    {
     "ename": "",
     "evalue": "",
     "output_type": "error",
     "traceback": [
      "\u001b[1;31mNo se puede iniciar Jupyter. Error al intentar buscar Jupyter: La ejecución de celdas con 'Python 3.10.6 64-bit' requieren el paquete notebook.\n",
      "\u001b[1;31mEjecute el siguiente comando para instalar 'jupyter y notebook' en el entorno de Python. comando \n",
      "\u001b[1;31m: 'python -m pip install jupyter notebook -U\n",
      "\u001b[1;31mor\n",
      "\u001b[1;31mconda install jupyter notebook -U'\n",
      "\u001b[1;31mHaga clic <a href='https://aka.ms/installJupyterForVSCode'>aquí</a> para obtener más información."
     ]
    }
   ],
   "source": [
    "a1.mePresento()"
   ]
  },
  {
   "cell_type": "code",
   "execution_count": null,
   "metadata": {},
   "outputs": [
    {
     "ename": "",
     "evalue": "",
     "output_type": "error",
     "traceback": [
      "\u001b[1;31mNo se puede iniciar Jupyter. Error al intentar buscar Jupyter: La ejecución de celdas con 'Python 3.10.6 64-bit' requieren el paquete notebook.\n",
      "\u001b[1;31mEjecute el siguiente comando para instalar 'jupyter y notebook' en el entorno de Python. comando \n",
      "\u001b[1;31m: 'python -m pip install jupyter notebook -U\n",
      "\u001b[1;31mor\n",
      "\u001b[1;31mconda install jupyter notebook -U'\n",
      "\u001b[1;31mHaga clic <a href='https://aka.ms/installJupyterForVSCode'>aquí</a> para obtener más información."
     ]
    }
   ],
   "source": [
    "a2.mePresento()"
   ]
  },
  {
   "cell_type": "code",
   "execution_count": null,
   "metadata": {},
   "outputs": [
    {
     "ename": "",
     "evalue": "",
     "output_type": "error",
     "traceback": [
      "\u001b[1;31mNo se puede iniciar Jupyter. Error al intentar buscar Jupyter: La ejecución de celdas con 'Python 3.10.6 64-bit' requieren el paquete notebook.\n",
      "\u001b[1;31mEjecute el siguiente comando para instalar 'jupyter y notebook' en el entorno de Python. comando \n",
      "\u001b[1;31m: 'python -m pip install jupyter notebook -U\n",
      "\u001b[1;31mor\n",
      "\u001b[1;31mconda install jupyter notebook -U'\n",
      "\u001b[1;31mHaga clic <a href='https://aka.ms/installJupyterForVSCode'>aquí</a> para obtener más información."
     ]
    }
   ],
   "source": [
    "a1.cumplirAños()\n",
    "a1.mePresento()"
   ]
  },
  {
   "cell_type": "code",
   "execution_count": null,
   "metadata": {},
   "outputs": [
    {
     "ename": "",
     "evalue": "",
     "output_type": "error",
     "traceback": [
      "\u001b[1;31mNo se puede iniciar Jupyter. Error al intentar buscar Jupyter: La ejecución de celdas con 'Python 3.10.6 64-bit' requieren el paquete notebook.\n",
      "\u001b[1;31mEjecute el siguiente comando para instalar 'jupyter y notebook' en el entorno de Python. comando \n",
      "\u001b[1;31m: 'python -m pip install jupyter notebook -U\n",
      "\u001b[1;31mor\n",
      "\u001b[1;31mconda install jupyter notebook -U'\n",
      "\u001b[1;31mHaga clic <a href='https://aka.ms/installJupyterForVSCode'>aquí</a> para obtener más información."
     ]
    }
   ],
   "source": [
    "# Caja Negra\n",
    "import unittest\n"
   ]
  },
  {
   "cell_type": "code",
   "execution_count": null,
   "metadata": {},
   "outputs": [
    {
     "ename": "",
     "evalue": "",
     "output_type": "error",
     "traceback": [
      "\u001b[1;31mNo se puede iniciar Jupyter. Error al intentar buscar Jupyter: La ejecución de celdas con 'Python 3.10.6 64-bit' requieren el paquete notebook.\n",
      "\u001b[1;31mEjecute el siguiente comando para instalar 'jupyter y notebook' en el entorno de Python. comando \n",
      "\u001b[1;31m: 'python -m pip install jupyter notebook -U\n",
      "\u001b[1;31mor\n",
      "\u001b[1;31mconda install jupyter notebook -U'\n",
      "\u001b[1;31mHaga clic <a href='https://aka.ms/installJupyterForVSCode'>aquí</a> para obtener más información."
     ]
    }
   ],
   "source": [
    "\n",
    "def suma(num_1, num_2):\n",
    "    return num_1 + num_2"
   ]
  },
  {
   "cell_type": "code",
   "execution_count": null,
   "metadata": {},
   "outputs": [
    {
     "ename": "",
     "evalue": "",
     "output_type": "error",
     "traceback": [
      "\u001b[1;31mNo se puede iniciar Jupyter. Error al intentar buscar Jupyter: La ejecución de celdas con 'Python 3.10.6 64-bit' requieren el paquete notebook.\n",
      "\u001b[1;31mEjecute el siguiente comando para instalar 'jupyter y notebook' en el entorno de Python. comando \n",
      "\u001b[1;31m: 'python -m pip install jupyter notebook -U\n",
      "\u001b[1;31mor\n",
      "\u001b[1;31mconda install jupyter notebook -U'\n",
      "\u001b[1;31mHaga clic <a href='https://aka.ms/installJupyterForVSCode'>aquí</a> para obtener más información."
     ]
    }
   ],
   "source": [
    "\n",
    "class CajaNegraTest(unittest.TestCase):\n",
    "\n",
    "    def test_suma_dos_positivos(self):\n",
    "        num_1 = 10\n",
    "        num_2 = 5\n",
    "\n",
    "        resultado = suma(num_1, num_2)\n",
    "\n",
    "        self.assertEqual(resultado, 15)\n",
    "\n",
    "    def test_suma_dos_negativos(self):\n",
    "        num_1 = -10\n",
    "        num_2 = -7\n",
    "\n",
    "        resultado = suma(num_1, num_2)\n",
    "\n",
    "        self.assertEqual(resultado, -17)\n"
   ]
  },
  {
   "cell_type": "code",
   "execution_count": null,
   "metadata": {},
   "outputs": [
    {
     "ename": "",
     "evalue": "",
     "output_type": "error",
     "traceback": [
      "\u001b[1;31mNo se puede iniciar Jupyter. Error al intentar buscar Jupyter: La ejecución de celdas con 'Python 3.10.6 64-bit' requieren el paquete notebook.\n",
      "\u001b[1;31mEjecute el siguiente comando para instalar 'jupyter y notebook' en el entorno de Python. comando \n",
      "\u001b[1;31m: 'python -m pip install jupyter notebook -U\n",
      "\u001b[1;31mor\n",
      "\u001b[1;31mconda install jupyter notebook -U'\n",
      "\u001b[1;31mHaga clic <a href='https://aka.ms/installJupyterForVSCode'>aquí</a> para obtener más información."
     ]
    }
   ],
   "source": [
    "unittest.main(argv=[''], verbosity=2, exit=False)"
   ]
  },
  {
   "cell_type": "code",
   "execution_count": null,
   "metadata": {},
   "outputs": [
    {
     "ename": "",
     "evalue": "",
     "output_type": "error",
     "traceback": [
      "\u001b[1;31mNo se puede iniciar Jupyter. Error al intentar buscar Jupyter: La ejecución de celdas con 'Python 3.10.6 64-bit' requieren el paquete notebook.\n",
      "\u001b[1;31mEjecute el siguiente comando para instalar 'jupyter y notebook' en el entorno de Python. comando \n",
      "\u001b[1;31m: 'python -m pip install jupyter notebook -U\n",
      "\u001b[1;31mor\n",
      "\u001b[1;31mconda install jupyter notebook -U'\n",
      "\u001b[1;31mHaga clic <a href='https://aka.ms/installJupyterForVSCode'>aquí</a> para obtener más información."
     ]
    }
   ],
   "source": [
    "if __name__ == '__main__':\n",
    "    unittest.main()"
   ]
  },
  {
   "cell_type": "code",
   "execution_count": null,
   "metadata": {},
   "outputs": [
    {
     "ename": "",
     "evalue": "",
     "output_type": "error",
     "traceback": [
      "\u001b[1;31mNo se puede iniciar Jupyter. Error al intentar buscar Jupyter: La ejecución de celdas con 'Python 3.10.6 64-bit' requieren el paquete notebook.\n",
      "\u001b[1;31mEjecute el siguiente comando para instalar 'jupyter y notebook' en el entorno de Python. comando \n",
      "\u001b[1;31m: 'python -m pip install jupyter notebook -U\n",
      "\u001b[1;31mor\n",
      "\u001b[1;31mconda install jupyter notebook -U'\n",
      "\u001b[1;31mHaga clic <a href='https://aka.ms/installJupyterForVSCode'>aquí</a> para obtener más información."
     ]
    }
   ],
   "source": [
    "#Caja de Cristal\n",
    "import unittest\n",
    "\n",
    "def es_mayor_de_edad(edad):\n",
    "    if edad >= 18:\n",
    "        return True\n",
    "    else:\n",
    "        return False\n",
    "\n",
    "class PruebaDeCristalTest(unittest.TestCase):\n",
    "\n",
    "    def test_es_mayor_de_edad(self):\n",
    "        edad = 20\n",
    "\n",
    "        resultado = es_mayor_de_edad(edad)\n",
    "\n",
    "        self.assertEqual(resultado, True)\n",
    "\n",
    "    def test_es_menor_de_edad(self):\n",
    "        edad = 15\n",
    "\n",
    "        resultado = es_mayor_de_edad(edad)\n",
    "\n",
    "        self.assertEqual(resultado, False)\n",
    "\n",
    "unittest.main(argv=[''], verbosity=2, exit=False)"
   ]
  },
  {
   "cell_type": "code",
   "execution_count": null,
   "metadata": {},
   "outputs": [
    {
     "ename": "",
     "evalue": "",
     "output_type": "error",
     "traceback": [
      "\u001b[1;31mNo se puede iniciar Jupyter. Error al intentar buscar Jupyter: La ejecución de celdas con 'Python 3.10.6 64-bit' requieren el paquete notebook.\n",
      "\u001b[1;31mEjecute el siguiente comando para instalar 'jupyter y notebook' en el entorno de Python. comando \n",
      "\u001b[1;31m: 'python -m pip install jupyter notebook -U\n",
      "\u001b[1;31mor\n",
      "\u001b[1;31mconda install jupyter notebook -U'\n",
      "\u001b[1;31mHaga clic <a href='https://aka.ms/installJupyterForVSCode'>aquí</a> para obtener más información."
     ]
    }
   ],
   "source": [
    "if __name__ == '__main__':\n",
    "    unittest.main()"
   ]
  },
  {
   "cell_type": "code",
   "execution_count": null,
   "metadata": {},
   "outputs": [
    {
     "ename": "",
     "evalue": "",
     "output_type": "error",
     "traceback": [
      "\u001b[1;31mNo se puede iniciar Jupyter. Error al intentar buscar Jupyter: La ejecución de celdas con 'Python 3.10.6 64-bit' requieren el paquete notebook.\n",
      "\u001b[1;31mEjecute el siguiente comando para instalar 'jupyter y notebook' en el entorno de Python. comando \n",
      "\u001b[1;31m: 'python -m pip install jupyter notebook -U\n",
      "\u001b[1;31mor\n",
      "\u001b[1;31mconda install jupyter notebook -U'\n",
      "\u001b[1;31mHaga clic <a href='https://aka.ms/installJupyterForVSCode'>aquí</a> para obtener más información."
     ]
    }
   ],
   "source": [
    "# Python\n",
    "\n",
    "def busca_pais(paises, pais):\n",
    "    '''\n",
    "    Paises es un diccionario. Pais es la llave.\n",
    "    Codigo con el principio EAFP.\n",
    "    '''    \n",
    "    try:\n",
    "        return paises[pais]\n",
    "    except KeyError:\n",
    "        return None"
   ]
  },
  {
   "cell_type": "code",
   "execution_count": null,
   "metadata": {},
   "outputs": [
    {
     "ename": "",
     "evalue": "",
     "output_type": "error",
     "traceback": [
      "\u001b[1;31mNo se puede iniciar Jupyter. Error al intentar buscar Jupyter: La ejecución de celdas con 'Python 3.10.6 64-bit' requieren el paquete notebook.\n",
      "\u001b[1;31mEjecute el siguiente comando para instalar 'jupyter y notebook' en el entorno de Python. comando \n",
      "\u001b[1;31m: 'python -m pip install jupyter notebook -U\n",
      "\u001b[1;31mor\n",
      "\u001b[1;31mconda install jupyter notebook -U'\n",
      "\u001b[1;31mHaga clic <a href='https://aka.ms/installJupyterForVSCode'>aquí</a> para obtener más información."
     ]
    }
   ],
   "source": [
    "def divide_elementos_de_lista(lista, divisor):\n",
    "    '''\n",
    "    Cada elemento de una lista es dividida por un divisor definido.\n",
    "    En caso de error de tipo ZeroDivisionError que\n",
    "    significa error al dividir en cero\n",
    "    la función devuelve la lista inicial\n",
    "    '''\n",
    "    try:\n",
    "        return [i / divisor for i in lista]\n",
    "    \n",
    "    except ZeroDivisionError as e:\n",
    "        print(e)\n",
    "        return lista\n",
    "\n",
    "lista = list(range(10))\n",
    "divisor = 0\n",
    "\n",
    "print(divide_elementos_de_lista(lista, divisor))"
   ]
  },
  {
   "cell_type": "code",
   "execution_count": null,
   "metadata": {},
   "outputs": [
    {
     "ename": "",
     "evalue": "",
     "output_type": "error",
     "traceback": [
      "\u001b[1;31mNo se puede iniciar Jupyter. Error al intentar buscar Jupyter: La ejecución de celdas con 'Python 3.10.6 64-bit' requieren el paquete notebook.\n",
      "\u001b[1;31mEjecute el siguiente comando para instalar 'jupyter y notebook' en el entorno de Python. comando \n",
      "\u001b[1;31m: 'python -m pip install jupyter notebook -U\n",
      "\u001b[1;31mor\n",
      "\u001b[1;31mconda install jupyter notebook -U'\n",
      "\u001b[1;31mHaga clic <a href='https://aka.ms/installJupyterForVSCode'>aquí</a> para obtener más información."
     ]
    }
   ],
   "source": [
    "divisor = 3\n",
    "print(divide_elementos_de_lista(lista, divisor))"
   ]
  },
  {
   "cell_type": "code",
   "execution_count": null,
   "metadata": {},
   "outputs": [
    {
     "ename": "",
     "evalue": "",
     "output_type": "error",
     "traceback": [
      "\u001b[1;31mNo se puede iniciar Jupyter. Error al intentar buscar Jupyter: La ejecución de celdas con 'Python 3.10.6 64-bit' requieren el paquete notebook.\n",
      "\u001b[1;31mEjecute el siguiente comando para instalar 'jupyter y notebook' en el entorno de Python. comando \n",
      "\u001b[1;31m: 'python -m pip install jupyter notebook -U\n",
      "\u001b[1;31mor\n",
      "\u001b[1;31mconda install jupyter notebook -U'\n",
      "\u001b[1;31mHaga clic <a href='https://aka.ms/installJupyterForVSCode'>aquí</a> para obtener más información."
     ]
    }
   ],
   "source": [
    "lista = [5, 4, 9, 2]\n",
    "i = 0\n",
    "while i < len(lista):\n",
    "    elemento = lista[i]\n",
    "    print(elemento)\n",
    "    i += 1"
   ]
  },
  {
   "cell_type": "code",
   "execution_count": null,
   "metadata": {},
   "outputs": [
    {
     "ename": "",
     "evalue": "",
     "output_type": "error",
     "traceback": [
      "\u001b[1;31mNo se puede iniciar Jupyter. Error al intentar buscar Jupyter: La ejecución de celdas con 'Python 3.10.6 64-bit' requieren el paquete notebook.\n",
      "\u001b[1;31mEjecute el siguiente comando para instalar 'jupyter y notebook' en el entorno de Python. comando \n",
      "\u001b[1;31m: 'python -m pip install jupyter notebook -U\n",
      "\u001b[1;31mor\n",
      "\u001b[1;31mconda install jupyter notebook -U'\n",
      "\u001b[1;31mHaga clic <a href='https://aka.ms/installJupyterForVSCode'>aquí</a> para obtener más información."
     ]
    }
   ],
   "source": [
    "lista = [5, 4, 9, 2]\n",
    "for elemento in lista:\n",
    "    print(elemento)"
   ]
  },
  {
   "cell_type": "code",
   "execution_count": null,
   "metadata": {},
   "outputs": [
    {
     "ename": "",
     "evalue": "",
     "output_type": "error",
     "traceback": [
      "\u001b[1;31mNo se puede iniciar Jupyter. Error al intentar buscar Jupyter: La ejecución de celdas con 'Python 3.10.6 64-bit' requieren el paquete notebook.\n",
      "\u001b[1;31mEjecute el siguiente comando para instalar 'jupyter y notebook' en el entorno de Python. comando \n",
      "\u001b[1;31m: 'python -m pip install jupyter notebook -U\n",
      "\u001b[1;31mor\n",
      "\u001b[1;31mconda install jupyter notebook -U'\n",
      "\u001b[1;31mHaga clic <a href='https://aka.ms/installJupyterForVSCode'>aquí</a> para obtener más información."
     ]
    }
   ],
   "source": [
    "from collections import Iterable\n",
    "cadena = \"Hola\"\n",
    "numero = 3\n",
    "print(\"cadena\", isinstance(cadena, Iterable))\n",
    "print(\"numero\", isinstance(numero, Iterable))"
   ]
  },
  {
   "cell_type": "code",
   "execution_count": null,
   "metadata": {},
   "outputs": [
    {
     "ename": "",
     "evalue": "",
     "output_type": "error",
     "traceback": [
      "\u001b[1;31mNo se puede iniciar Jupyter. Error al intentar buscar Jupyter: La ejecución de celdas con 'Python 3.10.6 64-bit' requieren el paquete notebook.\n",
      "\u001b[1;31mEjecute el siguiente comando para instalar 'jupyter y notebook' en el entorno de Python. comando \n",
      "\u001b[1;31m: 'python -m pip install jupyter notebook -U\n",
      "\u001b[1;31mor\n",
      "\u001b[1;31mconda install jupyter notebook -U'\n",
      "\u001b[1;31mHaga clic <a href='https://aka.ms/installJupyterForVSCode'>aquí</a> para obtener más información."
     ]
    }
   ],
   "source": [
    "print(list(\"Hola\"))"
   ]
  },
  {
   "cell_type": "code",
   "execution_count": null,
   "metadata": {},
   "outputs": [
    {
     "ename": "",
     "evalue": "",
     "output_type": "error",
     "traceback": [
      "\u001b[1;31mNo se puede iniciar Jupyter. Error al intentar buscar Jupyter: La ejecución de celdas con 'Python 3.10.6 64-bit' requieren el paquete notebook.\n",
      "\u001b[1;31mEjecute el siguiente comando para instalar 'jupyter y notebook' en el entorno de Python. comando \n",
      "\u001b[1;31m: 'python -m pip install jupyter notebook -U\n",
      "\u001b[1;31mor\n",
      "\u001b[1;31mconda install jupyter notebook -U'\n",
      "\u001b[1;31mHaga clic <a href='https://aka.ms/installJupyterForVSCode'>aquí</a> para obtener más información."
     ]
    }
   ],
   "source": [
    "print(sum([1, 2, 3]))"
   ]
  },
  {
   "cell_type": "code",
   "execution_count": null,
   "metadata": {},
   "outputs": [
    {
     "ename": "",
     "evalue": "",
     "output_type": "error",
     "traceback": [
      "\u001b[1;31mNo se puede iniciar Jupyter. Error al intentar buscar Jupyter: La ejecución de celdas con 'Python 3.10.6 64-bit' requieren el paquete notebook.\n",
      "\u001b[1;31mEjecute el siguiente comando para instalar 'jupyter y notebook' en el entorno de Python. comando \n",
      "\u001b[1;31m: 'python -m pip install jupyter notebook -U\n",
      "\u001b[1;31mor\n",
      "\u001b[1;31mconda install jupyter notebook -U'\n",
      "\u001b[1;31mHaga clic <a href='https://aka.ms/installJupyterForVSCode'>aquí</a> para obtener más información."
     ]
    }
   ],
   "source": [
    "print(\"-\".join(\"Hola\"))"
   ]
  },
  {
   "cell_type": "code",
   "execution_count": null,
   "metadata": {},
   "outputs": [
    {
     "ename": "",
     "evalue": "",
     "output_type": "error",
     "traceback": [
      "\u001b[1;31mNo se puede iniciar Jupyter. Error al intentar buscar Jupyter: La ejecución de celdas con 'Python 3.10.6 64-bit' requieren el paquete notebook.\n",
      "\u001b[1;31mEjecute el siguiente comando para instalar 'jupyter y notebook' en el entorno de Python. comando \n",
      "\u001b[1;31m: 'python -m pip install jupyter notebook -U\n",
      "\u001b[1;31mor\n",
      "\u001b[1;31mconda install jupyter notebook -U'\n",
      "\u001b[1;31mHaga clic <a href='https://aka.ms/installJupyterForVSCode'>aquí</a> para obtener más información."
     ]
    }
   ],
   "source": [
    "mi_dict = {'a':1, 'b':2, 'c':3}\n",
    "for i in mi_dict:\n",
    "    print(i)"
   ]
  },
  {
   "cell_type": "code",
   "execution_count": null,
   "metadata": {},
   "outputs": [
    {
     "ename": "",
     "evalue": "",
     "output_type": "error",
     "traceback": [
      "\u001b[1;31mNo se puede iniciar Jupyter. Error al intentar buscar Jupyter: La ejecución de celdas con 'Python 3.10.6 64-bit' requieren el paquete notebook.\n",
      "\u001b[1;31mEjecute el siguiente comando para instalar 'jupyter y notebook' en el entorno de Python. comando \n",
      "\u001b[1;31m: 'python -m pip install jupyter notebook -U\n",
      "\u001b[1;31mor\n",
      "\u001b[1;31mconda install jupyter notebook -U'\n",
      "\u001b[1;31mHaga clic <a href='https://aka.ms/installJupyterForVSCode'>aquí</a> para obtener más información."
     ]
    }
   ],
   "source": [
    "libro = ['página1', 'página2', 'página3', 'página4']\n",
    "marcapaginas = iter(libro)"
   ]
  },
  {
   "cell_type": "code",
   "execution_count": null,
   "metadata": {},
   "outputs": [
    {
     "ename": "",
     "evalue": "",
     "output_type": "error",
     "traceback": [
      "\u001b[1;31mNo se puede iniciar Jupyter. Error al intentar buscar Jupyter: La ejecución de celdas con 'Python 3.10.6 64-bit' requieren el paquete notebook.\n",
      "\u001b[1;31mEjecute el siguiente comando para instalar 'jupyter y notebook' en el entorno de Python. comando \n",
      "\u001b[1;31m: 'python -m pip install jupyter notebook -U\n",
      "\u001b[1;31mor\n",
      "\u001b[1;31mconda install jupyter notebook -U'\n",
      "\u001b[1;31mHaga clic <a href='https://aka.ms/installJupyterForVSCode'>aquí</a> para obtener más información."
     ]
    }
   ],
   "source": [
    "print(next(marcapaginas))\n",
    "print(next(marcapaginas))\n",
    "print(next(marcapaginas))\n",
    "print(next(marcapaginas))"
   ]
  },
  {
   "cell_type": "code",
   "execution_count": null,
   "metadata": {},
   "outputs": [
    {
     "ename": "",
     "evalue": "",
     "output_type": "error",
     "traceback": [
      "\u001b[1;31mNo se puede iniciar Jupyter. Error al intentar buscar Jupyter: La ejecución de celdas con 'Python 3.10.6 64-bit' requieren el paquete notebook.\n",
      "\u001b[1;31mEjecute el siguiente comando para instalar 'jupyter y notebook' en el entorno de Python. comando \n",
      "\u001b[1;31m: 'python -m pip install jupyter notebook -U\n",
      "\u001b[1;31mor\n",
      "\u001b[1;31mconda install jupyter notebook -U'\n",
      "\u001b[1;31mHaga clic <a href='https://aka.ms/installJupyterForVSCode'>aquí</a> para obtener más información."
     ]
    }
   ],
   "source": [
    "print(next(marcapaginas))"
   ]
  },
  {
   "cell_type": "code",
   "execution_count": null,
   "metadata": {},
   "outputs": [
    {
     "ename": "",
     "evalue": "",
     "output_type": "error",
     "traceback": [
      "\u001b[1;31mNo se puede iniciar Jupyter. Error al intentar buscar Jupyter: La ejecución de celdas con 'Python 3.10.6 64-bit' requieren el paquete notebook.\n",
      "\u001b[1;31mEjecute el siguiente comando para instalar 'jupyter y notebook' en el entorno de Python. comando \n",
      "\u001b[1;31m: 'python -m pip install jupyter notebook -U\n",
      "\u001b[1;31mor\n",
      "\u001b[1;31mconda install jupyter notebook -U'\n",
      "\u001b[1;31mHaga clic <a href='https://aka.ms/installJupyterForVSCode'>aquí</a> para obtener más información."
     ]
    }
   ],
   "source": [
    "14 % 3"
   ]
  },
  {
   "cell_type": "code",
   "execution_count": null,
   "metadata": {},
   "outputs": [
    {
     "ename": "",
     "evalue": "",
     "output_type": "error",
     "traceback": [
      "\u001b[1;31mNo se puede iniciar Jupyter. Error al intentar buscar Jupyter: La ejecución de celdas con 'Python 3.10.6 64-bit' requieren el paquete notebook.\n",
      "\u001b[1;31mEjecute el siguiente comando para instalar 'jupyter y notebook' en el entorno de Python. comando \n",
      "\u001b[1;31m: 'python -m pip install jupyter notebook -U\n",
      "\u001b[1;31mor\n",
      "\u001b[1;31mconda install jupyter notebook -U'\n",
      "\u001b[1;31mHaga clic <a href='https://aka.ms/installJupyterForVSCode'>aquí</a> para obtener más información."
     ]
    }
   ],
   "source": [
    "14 // 3"
   ]
  },
  {
   "cell_type": "code",
   "execution_count": null,
   "metadata": {},
   "outputs": [
    {
     "ename": "",
     "evalue": "",
     "output_type": "error",
     "traceback": [
      "\u001b[1;31mNo se puede iniciar Jupyter. Error al intentar buscar Jupyter: La ejecución de celdas con 'Python 3.10.6 64-bit' requieren el paquete notebook.\n",
      "\u001b[1;31mEjecute el siguiente comando para instalar 'jupyter y notebook' en el entorno de Python. comando \n",
      "\u001b[1;31m: 'python -m pip install jupyter notebook -U\n",
      "\u001b[1;31mor\n",
      "\u001b[1;31mconda install jupyter notebook -U'\n",
      "\u001b[1;31mHaga clic <a href='https://aka.ms/installJupyterForVSCode'>aquí</a> para obtener más información."
     ]
    }
   ],
   "source": [
    "a = [1,2]\n"
   ]
  },
  {
   "cell_type": "code",
   "execution_count": null,
   "metadata": {},
   "outputs": [
    {
     "ename": "",
     "evalue": "",
     "output_type": "error",
     "traceback": [
      "\u001b[1;31mNo se puede iniciar Jupyter. Error al intentar buscar Jupyter: La ejecución de celdas con 'Python 3.10.6 64-bit' requieren el paquete notebook.\n",
      "\u001b[1;31mEjecute el siguiente comando para instalar 'jupyter y notebook' en el entorno de Python. comando \n",
      "\u001b[1;31m: 'python -m pip install jupyter notebook -U\n",
      "\u001b[1;31mor\n",
      "\u001b[1;31mconda install jupyter notebook -U'\n",
      "\u001b[1;31mHaga clic <a href='https://aka.ms/installJupyterForVSCode'>aquí</a> para obtener más información."
     ]
    }
   ],
   "source": [
    "b = a.copy()"
   ]
  },
  {
   "cell_type": "code",
   "execution_count": null,
   "metadata": {},
   "outputs": [
    {
     "ename": "",
     "evalue": "",
     "output_type": "error",
     "traceback": [
      "\u001b[1;31mNo se puede iniciar Jupyter. Error al intentar buscar Jupyter: La ejecución de celdas con 'Python 3.10.6 64-bit' requieren el paquete notebook.\n",
      "\u001b[1;31mEjecute el siguiente comando para instalar 'jupyter y notebook' en el entorno de Python. comando \n",
      "\u001b[1;31m: 'python -m pip install jupyter notebook -U\n",
      "\u001b[1;31mor\n",
      "\u001b[1;31mconda install jupyter notebook -U'\n",
      "\u001b[1;31mHaga clic <a href='https://aka.ms/installJupyterForVSCode'>aquí</a> para obtener más información."
     ]
    }
   ],
   "source": [
    "b.append(3)"
   ]
  },
  {
   "cell_type": "code",
   "execution_count": null,
   "metadata": {},
   "outputs": [
    {
     "ename": "",
     "evalue": "",
     "output_type": "error",
     "traceback": [
      "\u001b[1;31mNo se puede iniciar Jupyter. Error al intentar buscar Jupyter: La ejecución de celdas con 'Python 3.10.6 64-bit' requieren el paquete notebook.\n",
      "\u001b[1;31mEjecute el siguiente comando para instalar 'jupyter y notebook' en el entorno de Python. comando \n",
      "\u001b[1;31m: 'python -m pip install jupyter notebook -U\n",
      "\u001b[1;31mor\n",
      "\u001b[1;31mconda install jupyter notebook -U'\n",
      "\u001b[1;31mHaga clic <a href='https://aka.ms/installJupyterForVSCode'>aquí</a> para obtener más información."
     ]
    }
   ],
   "source": [
    "print(a)"
   ]
  },
  {
   "cell_type": "code",
   "execution_count": null,
   "metadata": {},
   "outputs": [
    {
     "ename": "",
     "evalue": "",
     "output_type": "error",
     "traceback": [
      "\u001b[1;31mNo se puede iniciar Jupyter. Error al intentar buscar Jupyter: La ejecución de celdas con 'Python 3.10.6 64-bit' requieren el paquete notebook.\n",
      "\u001b[1;31mEjecute el siguiente comando para instalar 'jupyter y notebook' en el entorno de Python. comando \n",
      "\u001b[1;31m: 'python -m pip install jupyter notebook -U\n",
      "\u001b[1;31mor\n",
      "\u001b[1;31mconda install jupyter notebook -U'\n",
      "\u001b[1;31mHaga clic <a href='https://aka.ms/installJupyterForVSCode'>aquí</a> para obtener más información."
     ]
    }
   ],
   "source": [
    "print(b)"
   ]
  },
  {
   "cell_type": "code",
   "execution_count": null,
   "metadata": {},
   "outputs": [
    {
     "ename": "",
     "evalue": "",
     "output_type": "error",
     "traceback": [
      "\u001b[1;31mNo se puede iniciar Jupyter. Error al intentar buscar Jupyter: La ejecución de celdas con 'Python 3.10.6 64-bit' requieren el paquete notebook.\n",
      "\u001b[1;31mEjecute el siguiente comando para instalar 'jupyter y notebook' en el entorno de Python. comando \n",
      "\u001b[1;31m: 'python -m pip install jupyter notebook -U\n",
      "\u001b[1;31mor\n",
      "\u001b[1;31mconda install jupyter notebook -U'\n",
      "\u001b[1;31mHaga clic <a href='https://aka.ms/installJupyterForVSCode'>aquí</a> para obtener más información."
     ]
    }
   ],
   "source": [
    "b.append(4)"
   ]
  },
  {
   "cell_type": "code",
   "execution_count": null,
   "metadata": {},
   "outputs": [
    {
     "ename": "",
     "evalue": "",
     "output_type": "error",
     "traceback": [
      "\u001b[1;31mNo se puede iniciar Jupyter. Error al intentar buscar Jupyter: La ejecución de celdas con 'Python 3.10.6 64-bit' requieren el paquete notebook.\n",
      "\u001b[1;31mEjecute el siguiente comando para instalar 'jupyter y notebook' en el entorno de Python. comando \n",
      "\u001b[1;31m: 'python -m pip install jupyter notebook -U\n",
      "\u001b[1;31mor\n",
      "\u001b[1;31mconda install jupyter notebook -U'\n",
      "\u001b[1;31mHaga clic <a href='https://aka.ms/installJupyterForVSCode'>aquí</a> para obtener más información."
     ]
    }
   ],
   "source": [
    "print(a)"
   ]
  },
  {
   "cell_type": "code",
   "execution_count": null,
   "metadata": {},
   "outputs": [
    {
     "ename": "",
     "evalue": "",
     "output_type": "error",
     "traceback": [
      "\u001b[1;31mNo se puede iniciar Jupyter. Error al intentar buscar Jupyter: La ejecución de celdas con 'Python 3.10.6 64-bit' requieren el paquete notebook.\n",
      "\u001b[1;31mEjecute el siguiente comando para instalar 'jupyter y notebook' en el entorno de Python. comando \n",
      "\u001b[1;31m: 'python -m pip install jupyter notebook -U\n",
      "\u001b[1;31mor\n",
      "\u001b[1;31mconda install jupyter notebook -U'\n",
      "\u001b[1;31mHaga clic <a href='https://aka.ms/installJupyterForVSCode'>aquí</a> para obtener más información."
     ]
    }
   ],
   "source": [
    "print(b)"
   ]
  },
  {
   "cell_type": "code",
   "execution_count": null,
   "metadata": {},
   "outputs": [
    {
     "ename": "",
     "evalue": "",
     "output_type": "error",
     "traceback": [
      "\u001b[1;31mNo se puede iniciar Jupyter. Error al intentar buscar Jupyter: La ejecución de celdas con 'Python 3.10.6 64-bit' requieren el paquete notebook.\n",
      "\u001b[1;31mEjecute el siguiente comando para instalar 'jupyter y notebook' en el entorno de Python. comando \n",
      "\u001b[1;31m: 'python -m pip install jupyter notebook -U\n",
      "\u001b[1;31mor\n",
      "\u001b[1;31mconda install jupyter notebook -U'\n",
      "\u001b[1;31mHaga clic <a href='https://aka.ms/installJupyterForVSCode'>aquí</a> para obtener más información."
     ]
    }
   ],
   "source": [
    "x = 7"
   ]
  },
  {
   "cell_type": "code",
   "execution_count": null,
   "metadata": {},
   "outputs": [
    {
     "ename": "",
     "evalue": "",
     "output_type": "error",
     "traceback": [
      "\u001b[1;31mNo se puede iniciar Jupyter. Error al intentar buscar Jupyter: La ejecución de celdas con 'Python 3.10.6 64-bit' requieren el paquete notebook.\n",
      "\u001b[1;31mEjecute el siguiente comando para instalar 'jupyter y notebook' en el entorno de Python. comando \n",
      "\u001b[1;31m: 'python -m pip install jupyter notebook -U\n",
      "\u001b[1;31mor\n",
      "\u001b[1;31mconda install jupyter notebook -U'\n",
      "\u001b[1;31mHaga clic <a href='https://aka.ms/installJupyterForVSCode'>aquí</a> para obtener más información."
     ]
    }
   ],
   "source": [
    "7 & 7"
   ]
  },
  {
   "cell_type": "code",
   "execution_count": null,
   "metadata": {},
   "outputs": [
    {
     "ename": "",
     "evalue": "",
     "output_type": "error",
     "traceback": [
      "\u001b[1;31mNo se puede iniciar Jupyter. Error al intentar buscar Jupyter: La ejecución de celdas con 'Python 3.10.6 64-bit' requieren el paquete notebook.\n",
      "\u001b[1;31mEjecute el siguiente comando para instalar 'jupyter y notebook' en el entorno de Python. comando \n",
      "\u001b[1;31m: 'python -m pip install jupyter notebook -U\n",
      "\u001b[1;31mor\n",
      "\u001b[1;31mconda install jupyter notebook -U'\n",
      "\u001b[1;31mHaga clic <a href='https://aka.ms/installJupyterForVSCode'>aquí</a> para obtener más información."
     ]
    }
   ],
   "source": [
    "print(x)"
   ]
  },
  {
   "cell_type": "code",
   "execution_count": null,
   "metadata": {},
   "outputs": [
    {
     "ename": "",
     "evalue": "",
     "output_type": "error",
     "traceback": [
      "\u001b[1;31mNo se puede iniciar Jupyter. Error al intentar buscar Jupyter: La ejecución de celdas con 'Python 3.10.6 64-bit' requieren el paquete notebook.\n",
      "\u001b[1;31mEjecute el siguiente comando para instalar 'jupyter y notebook' en el entorno de Python. comando \n",
      "\u001b[1;31m: 'python -m pip install jupyter notebook -U\n",
      "\u001b[1;31mor\n",
      "\u001b[1;31mconda install jupyter notebook -U'\n",
      "\u001b[1;31mHaga clic <a href='https://aka.ms/installJupyterForVSCode'>aquí</a> para obtener más información."
     ]
    }
   ],
   "source": [
    "a = [1, 2]"
   ]
  },
  {
   "cell_type": "code",
   "execution_count": null,
   "metadata": {},
   "outputs": [
    {
     "ename": "",
     "evalue": "",
     "output_type": "error",
     "traceback": [
      "\u001b[1;31mNo se puede iniciar Jupyter. Error al intentar buscar Jupyter: La ejecución de celdas con 'Python 3.10.6 64-bit' requieren el paquete notebook.\n",
      "\u001b[1;31mEjecute el siguiente comando para instalar 'jupyter y notebook' en el entorno de Python. comando \n",
      "\u001b[1;31m: 'python -m pip install jupyter notebook -U\n",
      "\u001b[1;31mor\n",
      "\u001b[1;31mconda install jupyter notebook -U'\n",
      "\u001b[1;31mHaga clic <a href='https://aka.ms/installJupyterForVSCode'>aquí</a> para obtener más información."
     ]
    }
   ],
   "source": [
    "b = [\"Uno\", \"Dos\"]"
   ]
  },
  {
   "cell_type": "code",
   "execution_count": null,
   "metadata": {},
   "outputs": [
    {
     "ename": "",
     "evalue": "",
     "output_type": "error",
     "traceback": [
      "\u001b[1;31mNo se puede iniciar Jupyter. Error al intentar buscar Jupyter: La ejecución de celdas con 'Python 3.10.6 64-bit' requieren el paquete notebook.\n",
      "\u001b[1;31mEjecute el siguiente comando para instalar 'jupyter y notebook' en el entorno de Python. comando \n",
      "\u001b[1;31m: 'python -m pip install jupyter notebook -U\n",
      "\u001b[1;31mor\n",
      "\u001b[1;31mconda install jupyter notebook -U'\n",
      "\u001b[1;31mHaga clic <a href='https://aka.ms/installJupyterForVSCode'>aquí</a> para obtener más información."
     ]
    }
   ],
   "source": [
    "c = zip(a, b)"
   ]
  },
  {
   "cell_type": "code",
   "execution_count": null,
   "metadata": {},
   "outputs": [
    {
     "ename": "",
     "evalue": "",
     "output_type": "error",
     "traceback": [
      "\u001b[1;31mNo se puede iniciar Jupyter. Error al intentar buscar Jupyter: La ejecución de celdas con 'Python 3.10.6 64-bit' requieren el paquete notebook.\n",
      "\u001b[1;31mEjecute el siguiente comando para instalar 'jupyter y notebook' en el entorno de Python. comando \n",
      "\u001b[1;31m: 'python -m pip install jupyter notebook -U\n",
      "\u001b[1;31mor\n",
      "\u001b[1;31mconda install jupyter notebook -U'\n",
      "\u001b[1;31mHaga clic <a href='https://aka.ms/installJupyterForVSCode'>aquí</a> para obtener más información."
     ]
    }
   ],
   "source": [
    "type(c)"
   ]
  },
  {
   "cell_type": "code",
   "execution_count": null,
   "metadata": {},
   "outputs": [
    {
     "ename": "",
     "evalue": "",
     "output_type": "error",
     "traceback": [
      "\u001b[1;31mNo se puede iniciar Jupyter. Error al intentar buscar Jupyter: La ejecución de celdas con 'Python 3.10.6 64-bit' requieren el paquete notebook.\n",
      "\u001b[1;31mEjecute el siguiente comando para instalar 'jupyter y notebook' en el entorno de Python. comando \n",
      "\u001b[1;31m: 'python -m pip install jupyter notebook -U\n",
      "\u001b[1;31mor\n",
      "\u001b[1;31mconda install jupyter notebook -U'\n",
      "\u001b[1;31mHaga clic <a href='https://aka.ms/installJupyterForVSCode'>aquí</a> para obtener más información."
     ]
    }
   ],
   "source": [
    "list(c)"
   ]
  },
  {
   "cell_type": "code",
   "execution_count": null,
   "metadata": {},
   "outputs": [
    {
     "ename": "",
     "evalue": "",
     "output_type": "error",
     "traceback": [
      "\u001b[1;31mNo se puede iniciar Jupyter. Error al intentar buscar Jupyter: La ejecución de celdas con 'Python 3.10.6 64-bit' requieren el paquete notebook.\n",
      "\u001b[1;31mEjecute el siguiente comando para instalar 'jupyter y notebook' en el entorno de Python. comando \n",
      "\u001b[1;31m: 'python -m pip install jupyter notebook -U\n",
      "\u001b[1;31mor\n",
      "\u001b[1;31mconda install jupyter notebook -U'\n",
      "\u001b[1;31mHaga clic <a href='https://aka.ms/installJupyterForVSCode'>aquí</a> para obtener más información."
     ]
    }
   ],
   "source": [
    "frase = \"El perro de san roque no tiene rabo\""
   ]
  },
  {
   "cell_type": "code",
   "execution_count": null,
   "metadata": {},
   "outputs": [
    {
     "ename": "",
     "evalue": "",
     "output_type": "error",
     "traceback": [
      "\u001b[1;31mNo se puede iniciar Jupyter. Error al intentar buscar Jupyter: La ejecución de celdas con 'Python 3.10.6 64-bit' requieren el paquete notebook.\n",
      "\u001b[1;31mEjecute el siguiente comando para instalar 'jupyter y notebook' en el entorno de Python. comando \n",
      "\u001b[1;31m: 'python -m pip install jupyter notebook -U\n",
      "\u001b[1;31mor\n",
      "\u001b[1;31mconda install jupyter notebook -U'\n",
      "\u001b[1;31mHaga clic <a href='https://aka.ms/installJupyterForVSCode'>aquí</a> para obtener más información."
     ]
    }
   ],
   "source": [
    "errores = [i for i in frase if i == 'r']\n",
    "print(errores)"
   ]
  },
  {
   "cell_type": "code",
   "execution_count": null,
   "metadata": {},
   "outputs": [
    {
     "ename": "",
     "evalue": "",
     "output_type": "error",
     "traceback": [
      "\u001b[1;31mNo se puede iniciar Jupyter. Error al intentar buscar Jupyter: La ejecución de celdas con 'Python 3.10.6 64-bit' requieren el paquete notebook.\n",
      "\u001b[1;31mEjecute el siguiente comando para instalar 'jupyter y notebook' en el entorno de Python. comando \n",
      "\u001b[1;31m: 'python -m pip install jupyter notebook -U\n",
      "\u001b[1;31mor\n",
      "\u001b[1;31mconda install jupyter notebook -U'\n",
      "\u001b[1;31mHaga clic <a href='https://aka.ms/installJupyterForVSCode'>aquí</a> para obtener más información."
     ]
    }
   ],
   "source": [
    "n = 40 \n",
    "sequence = [0,1] \n",
    "for i in range(2,n): \n",
    "    sequence.append(sequence[i-1]+sequence[i-2]) \n",
    "    print (sequence)"
   ]
  },
  {
   "cell_type": "code",
   "execution_count": null,
   "metadata": {},
   "outputs": [
    {
     "ename": "",
     "evalue": "",
     "output_type": "error",
     "traceback": [
      "\u001b[1;31mNo se puede iniciar Jupyter. Error al intentar buscar Jupyter: La ejecución de celdas con 'Python 3.10.6 64-bit' requieren el paquete notebook.\n",
      "\u001b[1;31mEjecute el siguiente comando para instalar 'jupyter y notebook' en el entorno de Python. comando \n",
      "\u001b[1;31m: 'python -m pip install jupyter notebook -U\n",
      "\u001b[1;31mor\n",
      "\u001b[1;31mconda install jupyter notebook -U'\n",
      "\u001b[1;31mHaga clic <a href='https://aka.ms/installJupyterForVSCode'>aquí</a> para obtener más información."
     ]
    }
   ],
   "source": [
    "4 << 1"
   ]
  }
 ],
 "metadata": {
  "kernelspec": {
   "display_name": "Python 3.10.6 64-bit",
   "language": "python",
   "name": "python3"
  },
  "language_info": {
   "codemirror_mode": {
    "name": "ipython",
    "version": 3
   },
   "file_extension": ".py",
   "mimetype": "text/x-python",
   "name": "python",
   "nbconvert_exporter": "python",
   "pygments_lexer": "ipython3",
   "version": "3.10.6"
  },
  "vscode": {
   "interpreter": {
    "hash": "916dbcbb3f70747c44a77c7bcd40155683ae19c65e1c03b4aa3499c5328201f1"
   }
  }
 },
 "nbformat": 4,
 "nbformat_minor": 4
}
